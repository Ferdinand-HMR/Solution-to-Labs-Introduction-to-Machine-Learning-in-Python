{
 "cells": [
  {
   "cell_type": "markdown",
   "metadata": {},
   "source": [
    "# Lab:  Hyper-Parameter Optimization with PCA\n",
    "\n",
    "PCA is often applied as a pre-processing step with classifiers.  When using PCA in this manner, one must select the number of PC components to use along with parameters in classifier.  In this lab, we will demonstrate how to performing this *hyper-parameter optimization*.  In doing the lab, you will learn to:\n",
    "\n",
    "* Combine PCA with data scaling.\n",
    "* Compute and visualize PC components\n",
    "* Select the number of PCs with K-fold cross validation\n",
    "* Implement the multi-stage classifier pipeline in sklearn\n",
    "* Perform automatic parameter search using `GridSearchCV` in combination with a pipeline.\n",
    "\n",
    "We first download the basic packages."
   ]
  },
  {
   "cell_type": "code",
   "execution_count": 1,
   "metadata": {},
   "outputs": [],
   "source": [
    "import numpy as np\n",
    "import matplotlib\n",
    "import matplotlib.pyplot as plt"
   ]
  },
  {
   "cell_type": "markdown",
   "metadata": {},
   "source": [
    "## Downloading the Data\n",
    "\n",
    "We will use a very simple `wine` dataset, commonly used in teaching machine learning class.  The problem is to classify the type of red wine from features of the wine such as the `alchohol` and other chemical components.  There are three possible wine types."
   ]
  },
  {
   "cell_type": "code",
   "execution_count": 2,
   "metadata": {},
   "outputs": [
    {
     "name": "stdout",
     "output_type": "stream",
     "text": [
      "Feature Names: ['alcohol', 'malic_acid', 'ash', 'alcalinity_of_ash', 'magnesium', 'total_phenols', 'flavanoids', 'nonflavanoid_phenols', 'proanthocyanins', 'color_intensity', 'hue', 'od280/od315_of_diluted_wines', 'proline']\n",
      "Target Names: ['class_0' 'class_1' 'class_2']\n"
     ]
    }
   ],
   "source": [
    "from sklearn.datasets import load_wine\n",
    "from sklearn.model_selection import KFold\n",
    "data = load_wine()\n",
    "\n",
    "# TODO print the features names in data.feature_names and data.target_names\n",
    "print('Feature Names:',data.feature_names)\n",
    "print('Target Names:',data.target_names)"
   ]
  },
  {
   "cell_type": "markdown",
   "metadata": {},
   "source": [
    "Get the data matrix `X` from `data.data` and the target values `y` from `data.target`.  Print the number of samples, number of features and number of classes."
   ]
  },
  {
   "cell_type": "code",
   "execution_count": 3,
   "metadata": {},
   "outputs": [
    {
     "name": "stdout",
     "output_type": "stream",
     "text": [
      "Numer of Samples: 178\n",
      "Numer of Features: 13\n",
      "Number of classes: 3\n"
     ]
    }
   ],
   "source": [
    "# TODO\n",
    "X = data.data\n",
    "y = data.target\n",
    "\n",
    "print('Numer of Samples:',np.shape(X)[0])\n",
    "print('Numer of Features:',np.shape(X)[1])\n",
    "print('Number of classes:',np.size(np.unique(y)))"
   ]
  },
  {
   "cell_type": "markdown",
   "metadata": {},
   "source": [
    "## Perform PCA for Visualization\n",
    "\n",
    "Before performing PCA, you should scale the data matrix to remove the mean and normalize the variance of the different components.  For this purpose, create a `StandardScaling` object `scaling`.  Then `fit` the scaling with the entire data `X`.  Transform the data and let `Xs` be the scaled data."
   ]
  },
  {
   "cell_type": "code",
   "execution_count": 4,
   "metadata": {},
   "outputs": [
    {
     "name": "stdout",
     "output_type": "stream",
     "text": [
      "Scaled Data:\n",
      " [[ 1.51861254 -0.5622498   0.23205254 ...  0.36217728  1.84791957\n",
      "   1.01300893]\n",
      " [ 0.24628963 -0.49941338 -0.82799632 ...  0.40605066  1.1134493\n",
      "   0.96524152]\n",
      " [ 0.19687903  0.02123125  1.10933436 ...  0.31830389  0.78858745\n",
      "   1.39514818]\n",
      " ...\n",
      " [ 0.33275817  1.74474449 -0.38935541 ... -1.61212515 -1.48544548\n",
      "   0.28057537]\n",
      " [ 0.20923168  0.22769377  0.01273209 ... -1.56825176 -1.40069891\n",
      "   0.29649784]\n",
      " [ 1.39508604  1.58316512  1.36520822 ... -1.52437837 -1.42894777\n",
      "  -0.59516041]]\n"
     ]
    }
   ],
   "source": [
    "from sklearn.preprocessing import StandardScaler\n",
    "# TODO\n",
    "scaling = StandardScaler()\n",
    "scaling.fit(X)\n",
    "Xs = scaling.transform(X)\n",
    "print('Scaled Data:\\n',Xs)"
   ]
  },
  {
   "cell_type": "markdown",
   "metadata": {},
   "source": [
    "Now, fit a PCA on the scaled data matrix `Xs`.  You can use the `sklearn` `PCA` method.  In order that we can visualize the results set `n_components=2`.  Select `svd_solver='randomized'` and `whiten=True`.  Use the the `pca.transform` method to find, `Z`, the coefficients of `Xs` in the PCA basis."
   ]
  },
  {
   "cell_type": "code",
   "execution_count": 5,
   "metadata": {
    "scrolled": true
   },
   "outputs": [
    {
     "name": "stdout",
     "output_type": "stream",
     "text": [
      "PCA Coefficients: [[ 1.52465093 -0.91090941]\n",
      " [ 1.01565144  0.21039043]\n",
      " [ 1.15690036 -0.65071682]\n",
      " [ 1.72705576 -1.73943203]\n",
      " [ 0.46377716 -0.54891417]\n",
      " [ 1.40214709 -1.33935934]\n",
      " [ 1.12580265 -0.74139921]\n",
      " [ 0.94668624 -1.01534987]\n",
      " [ 1.15420394 -0.57935651]\n",
      " [ 1.26579355 -0.49818138]\n",
      " [ 1.59957262 -0.8218485 ]\n",
      " [ 0.80662847 -0.38619345]\n",
      " [ 0.97152078 -0.42641025]\n",
      " [ 1.58965274 -0.71349364]\n",
      " [ 1.98250951 -1.32268328]\n",
      " [ 1.05965372 -1.04916746]\n",
      " [ 0.99840893 -1.46866589]\n",
      " [ 0.87292303 -1.02948924]\n",
      " [ 1.62818709 -1.58922225]\n",
      " [ 0.95821752 -0.66964019]\n",
      " [ 1.43623188 -0.49657814]\n",
      " [ 0.4994768  -0.15255434]\n",
      " [ 1.1653971   0.05795681]\n",
      " [ 0.75617167  0.32580222]\n",
      " [ 0.80976487  0.20013954]\n",
      " [ 0.45512163 -0.59361615]\n",
      " [ 0.81606332 -0.43301667]\n",
      " [ 0.56790227  0.0566735 ]\n",
      " [ 1.00597119 -0.4351588 ]\n",
      " [ 1.03709289 -0.1208237 ]\n",
      " [ 1.14930636 -0.78303878]\n",
      " [ 1.2307579  -0.92883841]\n",
      " [ 0.74862865 -0.03325959]\n",
      " [ 0.87463291 -1.03055672]\n",
      " [ 0.64833034 -0.44043741]\n",
      " [ 0.87515481 -0.11151495]\n",
      " [ 0.63659636 -0.41564031]\n",
      " [ 0.51585864 -0.07200994]\n",
      " [ 0.6905319   0.48555664]\n",
      " [ 1.16290425 -1.1377998 ]\n",
      " [ 1.18970111 -0.49198352]\n",
      " [ 0.30728919 -0.10725529]\n",
      " [ 1.41159497 -0.72945253]\n",
      " [ 0.21246926 -0.20871764]\n",
      " [ 0.96595384  0.04481079]\n",
      " [ 0.52227524 -1.12145879]\n",
      " [ 1.25336962 -0.75180193]\n",
      " [ 1.29691912 -0.407827  ]\n",
      " [ 0.92389243 -0.78694858]\n",
      " [ 1.24458525 -1.10559396]\n",
      " [ 1.47783997 -0.10538172]\n",
      " [ 1.31421262 -0.47031455]\n",
      " [ 1.61146353 -1.01772947]\n",
      " [ 1.02269675 -1.18334078]\n",
      " [ 0.98693184 -0.64162972]\n",
      " [ 1.13510653 -0.83868204]\n",
      " [ 1.26022668 -0.90654638]\n",
      " [ 0.99922976 -0.76496905]\n",
      " [ 1.44311682 -1.09272778]\n",
      " [-0.42685249  1.93954965]\n",
      " [-0.70905049  0.87177171]\n",
      " [-0.84409112  0.52376857]\n",
      " [ 0.01406941  0.79689198]\n",
      " [ 0.94246854  1.21480823]\n",
      " [-0.28025935  1.20409679]\n",
      " [ 0.41381861  0.48207285]\n",
      " [ 1.03359848  1.18928817]\n",
      " [ 0.08429835  1.53167128]\n",
      " [-0.37363191  0.13915721]\n",
      " [ 0.90815736  0.88555385]\n",
      " [-0.72271964  0.55847618]\n",
      " [ 0.76200664  0.60374138]\n",
      " [-0.33344069  0.67122252]\n",
      " [ 1.17780994 -0.16420052]\n",
      " [ 0.84239849  0.81272649]\n",
      " [-0.39900079  1.54237092]\n",
      " [ 0.17008899  1.35924139]\n",
      " [-0.66993012  0.87297595]\n",
      " [ 0.58054669  0.48645118]\n",
      " [ 0.17290959  0.6481245 ]\n",
      " [ 0.35030713  2.12985651]\n",
      " [ 0.47557696  0.91548277]\n",
      " [-0.22748598  1.50270404]\n",
      " [-1.16712229  0.0551819 ]\n",
      " [ 0.38398171  0.92997237]\n",
      " [ 0.36218564  1.27891996]\n",
      " [-0.37088629  1.40967774]\n",
      " [-0.2565222   1.49749271]\n",
      " [-0.51259657  1.13732348]\n",
      " [-0.25545583  1.67706331]\n",
      " [-0.62024228  1.33658291]\n",
      " [-0.71916463  1.16885579]\n",
      " [-0.8883612   0.98413293]\n",
      " [ 0.34322896  1.45959528]\n",
      " [ 0.44012509  1.40317657]\n",
      " [ 1.16936926 -0.10682182]\n",
      " [-0.25004526  0.23281423]\n",
      " [ 0.4739551   1.61902443]\n",
      " [ 1.03516242  0.90414368]\n",
      " [ 0.64825104  1.3669938 ]\n",
      " [ 0.3666975   1.49999384]\n",
      " [-0.25260989  1.44709841]\n",
      " [-0.07408868  0.73485713]\n",
      " [-0.30329591  1.69121237]\n",
      " [ 0.18035829  1.32442256]\n",
      " [-0.81478608  1.08370957]\n",
      " [-0.16836655  1.36898893]\n",
      " [-0.74499416  0.85545249]\n",
      " [ 0.03794022  1.45536902]\n",
      " [ 0.72550478  0.92262921]\n",
      " [ 0.65301024  0.89497139]\n",
      " [-0.12811466  1.21830147]\n",
      " [-0.5990324   0.48160642]\n",
      " [-0.21010775  1.43213408]\n",
      " [-0.22716838  1.22365093]\n",
      " [ 0.22160097  2.44332224]\n",
      " [-0.11624849  1.78052685]\n",
      " [-0.04929063  1.21726273]\n",
      " [-1.11841231  0.79332959]\n",
      " [-0.25332599  1.40231401]\n",
      " [ 0.33999095  0.88913413]\n",
      " [ 0.61428315 -0.15987038]\n",
      " [-0.54108581  0.41900195]\n",
      " [-0.21252712  0.39017604]\n",
      " [ 0.44978701  0.9122396 ]\n",
      " [-0.0445017   1.33153225]\n",
      " [ 0.01769185  0.79940106]\n",
      " [-0.73418516  0.76240933]\n",
      " [-0.2204474   1.22352196]\n",
      " [-0.82413343  0.72589913]\n",
      " [-0.61004486 -0.10752558]\n",
      " [-1.09611232 -0.23638354]\n",
      " [-1.35005876 -0.16651224]\n",
      " [-0.98685062 -0.23239043]\n",
      " [-1.08938655  0.29005645]\n",
      " [-1.40839309 -0.22302418]\n",
      " [-1.80000187 -0.09755062]\n",
      " [-1.80952171 -0.41630127]\n",
      " [-1.4223833  -0.22014021]\n",
      " [-1.09150207 -0.18425672]\n",
      " [-1.27737053 -0.18099067]\n",
      " [-1.05109126 -0.23507426]\n",
      " [-1.37244223 -0.30872515]\n",
      " [-1.09183445 -0.30438083]\n",
      " [-1.0158356  -0.73206102]\n",
      " [-1.20695094 -0.35538741]\n",
      " [-1.96773297 -0.4099804 ]\n",
      " [-1.64687606 -0.80314994]\n",
      " [-1.29035691 -0.99109876]\n",
      " [-1.33292146 -1.28802642]\n",
      " [-1.06680122 -1.4870049 ]\n",
      " [-1.17211161 -1.29069333]\n",
      " [-0.83319276 -0.96403403]\n",
      " [-1.26878905 -1.34979151]\n",
      " [-1.25821906 -0.25866222]\n",
      " [-1.65709364 -1.13740994]\n",
      " [-1.32840124 -1.21492565]\n",
      " [-1.55931338 -0.82787079]\n",
      " [-0.48183044 -2.21822738]\n",
      " [-0.74004783 -1.51872958]\n",
      " [-1.444841   -0.46582284]\n",
      " [-1.02975999 -0.74178742]\n",
      " [-1.30902462 -0.3508963 ]\n",
      " [-1.19402287 -0.44045711]\n",
      " [-1.35574009 -0.98149099]\n",
      " [-1.6226926  -0.55692606]\n",
      " [-1.10604591 -1.63592849]\n",
      " [-1.34644778 -0.80425062]\n",
      " [-1.00275638 -1.31104766]\n",
      " [-1.09446985 -1.63360069]\n",
      " [-1.4763229   0.15855289]\n",
      " [-1.69067335 -0.53497851]\n",
      " [-1.13337183 -1.38441515]\n",
      " [-1.54936957 -1.39860818]\n",
      " [-1.19607249 -1.10891459]\n",
      " [-1.23095483 -1.74228895]\n",
      " [-1.097269   -1.44976023]\n",
      " [-1.47500865 -1.74735034]]\n"
     ]
    }
   ],
   "source": [
    "from sklearn.decomposition import PCA\n",
    "\n",
    "# TODO\n",
    "ncomp = 2\n",
    "pca = PCA(n_components=2,svd_solver='randomized',whiten=True)\n",
    "pca.fit(Xs)\n",
    "Z = pca.transform(Xs)\n",
    "print('PCA Coefficients:',Z)\n",
    "\n",
    "# Construct the PCA object"
   ]
  },
  {
   "cell_type": "markdown",
   "metadata": {},
   "source": [
    "In the transformed basis, each data sample is represented by a two dimensional vector, `Z[i,0], Z[i,1]`.  Plot a scatter plot of the transformed data.  Use different marker colors for the different classes.  If you did everything, you should see that the classes are quite well separated with even two PCs."
   ]
  },
  {
   "cell_type": "code",
   "execution_count": 6,
   "metadata": {},
   "outputs": [
    {
     "data": {
      "text/plain": [
       "Text(0, 0.5, 'PC2')"
      ]
     },
     "execution_count": 6,
     "metadata": {},
     "output_type": "execute_result"
    },
    {
     "data": {
      "image/png": "[encoded data removed]",
      "text/plain": [
       "<Figure size 432x288 with 1 Axes>"
      ]
     },
     "metadata": {
      "needs_background": "light"
     },
     "output_type": "display_data"
    }
   ],
   "source": [
    "classes_0=np.where(y==0)\n",
    "classes_1=np.where(y==1)\n",
    "classes_2=np.where(y==2)\n",
    "for i in classes_0:\n",
    "    plt.scatter(Z[i,0], Z[i,1],c='m',label='Class 0')\n",
    "for i in classes_1:\n",
    "    plt.scatter(Z[i,0], Z[i,1],c='k',label='Class 1')\n",
    "for i in classes_2:\n",
    "    plt.scatter(Z[i,0], Z[i,1],c='B',label='Class 2')\n",
    "plt.legend() \n",
    "plt.xlabel('PC1')\n",
    "plt.ylabel('PC2')"
   ]
  },
  {
   "cell_type": "markdown",
   "metadata": {},
   "source": [
    "Now, refit the scaled data `Xs` using `n_components=nfeatures` where `nfeatures` is the number of features.  This is the maximum number of PCs.  Get the singular values from `pca.singular_values_` and plot the portion of variation as a function of the number of PCs.   The PoV for using `n` PCs is:\n",
    "\n",
    "    PoV[n]  = \\sum_{i=0}^{n-1}  s[i]**2 / \\sum_{i=0}^{d-1}  s[i]**2\n",
    "    \n",
    "where `s[i]` is the `i`-th singular value and `d` is the number of features.  You should see that the 4 PCs contains more than 70% of the variance."
   ]
  },
  {
   "cell_type": "code",
   "execution_count": 7,
   "metadata": {},
   "outputs": [
    {
     "name": "stdout",
     "output_type": "stream",
     "text": [
      "[28.94203422 21.08225141 16.04371561 12.78973645 12.32374195 10.68713954\n",
      "  9.90368818  7.8760733   7.17081793  6.6828618   6.33958815  5.48097635\n",
      "  4.28967045]\n",
      "[28.94203422 21.08225141 16.04371561 12.78973645 12.32374195 10.68713954\n",
      "  9.90368818  7.8760733   7.17081793  6.6828618   6.33958815  5.48097635\n",
      "  4.28967045]\n"
     ]
    },
    {
     "data": {
      "image/png": "[encoded data removed]",
      "text/plain": [
       "<Figure size 432x288 with 1 Axes>"
      ]
     },
     "metadata": {
      "needs_background": "light"
     },
     "output_type": "display_data"
    }
   ],
   "source": [
    "# TODO\n",
    "nfeatures = np.shape(Xs)[1]\n",
    "pca = PCA(n_components=nfeatures,svd_solver='randomized',whiten=True)\n",
    "pca.fit(Xs)\n",
    "Z_new = pca.transform(Xs)\n",
    "print(pca.singular_values_)\n",
    "PoV = np.cumsum(pca.singular_values_**2)/np.sum(pca.singular_values_**2)\n",
    "plt.plot(PoV)\n",
    "plt.xlabel('Number of PCs', fontsize=10)\n",
    "plt.ylabel('PoV', fontsize=10)\n",
    "\n",
    "print(pca.singular_values_)"
   ]
  },
  {
   "cell_type": "markdown",
   "metadata": {},
   "source": [
    "## Using PCA with Classification \n",
    "\n",
    "We will now use data scaling and PCA as a pre-processing step for logistic classification.  The number of PCs to use can be found with cross-validation.  Complete the code below which tries different number of PCs components to use and measures the test accuracy for each value."
   ]
  },
  {
   "cell_type": "code",
   "execution_count": 8,
   "metadata": {},
   "outputs": [
    {
     "data": {
      "text/plain": [
       "(10, 5)"
      ]
     },
     "execution_count": 8,
     "metadata": {},
     "output_type": "execute_result"
    }
   ],
   "source": [
    "from sklearn.preprocessing import StandardScaler\n",
    "from sklearn.linear_model import LogisticRegression\n",
    "nfold = 5\n",
    "\n",
    "# Create a K-fold object\n",
    "kf = KFold(n_splits=nfold)\n",
    "kf.get_n_splits(X)\n",
    "\n",
    "# Number of PCs to try\n",
    "ncomp_test = np.arange(2,12)\n",
    "num_nc = len(ncomp_test)\n",
    "\n",
    "# Accuracy:  acc[icomp,ifold]  is test accuracy when using `ncomp = ncomp_test[icomp]` in fold `ifold`.\n",
    "acc = np.zeros((num_nc,nfold))\n",
    "\n",
    "# Loop over number of components to test\n",
    "for icomp, ncomp in enumerate(ncomp_test):\n",
    "    \n",
    "#     Look over the folds\n",
    "    for ifold, I in enumerate(kf.split(X)):\n",
    "        Itr, Its = I\n",
    "        \n",
    "        # TODO:  Split data into training \n",
    "        Xtr, Xts, ytr, yts = X[Itr], X[Its], y[Itr], y[Its]\n",
    "\n",
    "        # TODO:  Create a scaling object and fit the scaling on the training data\n",
    "        scaler = StandardScaler()\n",
    "        scaler.fit(Xtr)\n",
    "        Xs_tr = scaler.transform(Xtr)\n",
    "        \n",
    "        # TODO:  Fit the PCA on the scaled training data\n",
    "        pca = PCA(n_components=ncomp, svd_solver='randomized', whiten=True)\n",
    "        pca.fit(Xs_tr)\n",
    "        Z_tr = pca.transform(Xs_tr)\n",
    "        \n",
    "        # TODO:  Train a classifier on the transformed training data\n",
    "        # Use a logistic regression classifier\n",
    "        logreg = LogisticRegression(multi_class='auto', solver='lbfgs')\n",
    "        logreg.fit(Z_tr, ytr)\n",
    "        \n",
    "        # TODO:  Transform the test data through data scaler and PCA\n",
    "        Xs_new = scaler.transform(Xts)\n",
    "        Z_new = pca.transform(Xs_new)\n",
    "        \n",
    "        # TODO:  Predict the labels the test data\n",
    "        yhat = logreg.predict(Z_new)\n",
    "\n",
    "        \n",
    "        # TODO:  Measure the accuracy \n",
    "        acc[icomp, ifold] = np.mean(yhat == yts)\n",
    "acc.shape        "
   ]
  },
  {
   "cell_type": "markdown",
   "metadata": {},
   "source": [
    "Use the `plt.errorbar` function to plot the mean accuracy with error bars corresponding to the standard error of the accuracy as a function of the number of components.  Find the optimal number of PCs to use according to the normal rule and one SE rule.  If you did it correctly, you should get an accuracy of around 96%."
   ]
  },
  {
   "cell_type": "code",
   "execution_count": 9,
   "metadata": {},
   "outputs": [
    {
     "name": "stdout",
     "output_type": "stream",
     "text": [
      "[0.92714286 0.92174603 0.93301587 0.91619048 0.93269841 0.94952381\n",
      " 0.94952381 0.94968254 0.94428571 0.95539683]\n",
      "[0.01414035 0.02023047 0.0240891  0.01941867 0.00655135 0.01035585\n",
      " 0.01035585 0.01364433 0.0195863  0.01662769]\n",
      "(10,)\n",
      "Optimal Accuracy: 0.9553968253968254\n",
      "The selected order using normal rule is 11\n"
     ]
    },
    {
     "data": {
      "image/png": "[encoded data removed]",
      "text/plain": [
       "<Figure size 432x288 with 1 Axes>"
      ]
     },
     "metadata": {
      "needs_background": "light"
     },
     "output_type": "display_data"
    }
   ],
   "source": [
    "# TODO:\n",
    "acc_mean = np.mean(acc,axis=1)\n",
    "print(acc_mean)\n",
    "acc_se =np.std(acc,axis=1)/np.sqrt(nfold-1)\n",
    "print(acc_se)\n",
    "print(ncomp_test.shape)\n",
    "plt.errorbar(ncomp_test,acc_mean,yerr=acc_se,fmt='-')\n",
    "plt.xlabel('Number of components')\n",
    "plt.ylabel('Accuracy')\n",
    "\n",
    "# TODO:  Optimal order with the normal rule\n",
    "imax = np.argmax(acc_mean)\n",
    "print('Optimal Accuracy:',np.max(acc_mean))\n",
    "print(\"The selected order using normal rule is {0:d}\".format(ncomp_test[imax]))\n"
   ]
  },
  {
   "cell_type": "code",
   "execution_count": 10,
   "metadata": {},
   "outputs": [
    {
     "name": "stdout",
     "output_type": "stream",
     "text": [
      "According to 1 SE rule ,order is 7\n",
      "The Accuracy: 0.9495238095238095\n"
     ]
    },
    {
     "data": {
      "image/png": "[encoded data removed]",
      "text/plain": [
       "<Figure size 432x288 with 1 Axes>"
      ]
     },
     "metadata": {
      "needs_background": "light"
     },
     "output_type": "display_data"
    }
   ],
   "source": [
    "acc_tgt = acc_mean[imax] - acc_se[imax]\n",
    "I = np.where(acc_mean >= acc_tgt)[0]\n",
    "iopt = I[0]\n",
    "dopt = ncomp_test[iopt]\n",
    "\n",
    "plt.errorbar(ncomp_test, acc_mean, yerr=acc_se, fmt='-')\n",
    "plt.plot([ncomp_test[iopt],ncomp_test[imax]], [acc_tgt, acc_tgt], '--')\n",
    "\n",
    "plt.plot([dopt,dopt], [0.90,0.98],'g--')\n",
    "plt.xlabel('Number of components')\n",
    "plt.ylabel('Accuracy')\n",
    "print(\"According to 1 SE rule ,order is %d\" % dopt)\n",
    "print('The Accuracy:',acc_mean[iopt])\n"
   ]
  },
  {
   "cell_type": "markdown",
   "metadata": {},
   "source": [
    "## Hyper-Parameter Optimization with GridCV.\n",
    "\n",
    "We will now try a more complex classifier -- a support vector classifier with a radial basis function.  When we use such a classifer, there will be a number of parameters to tune.  When the number of parameters to tune becomes large, writing a loop over multiple parameters as we did above becomes cumbersome.  The `sklearn` package has a very nice routine, `GridSearchCV` to perform this sort of parameter search.  \n",
    "\n",
    "Before, we do this we need to create an estimator `Pipeline`.  An estimator pipeline is a sequence of transformations followed by an estimator that will operate on the transformed data.  Create the following pipeline:\n",
    "\n",
    "*  Create a `StandardScaler()` object called `scaler` for the first transformation\n",
    "*  Create a `PCA()` object called `pca` for the second transformation\n",
    "*  Create a `SVC()` object called `svc` for the final SVM classifier.  Set the parameter `kernel='rbf'`.\n",
    "\n",
    "Once you have the three steps defined, you can create the pipeline with the command:\n",
    "    \n",
    "    pipe = Pipeline(steps=[('scaler', scaler), ('pca', pca), ('svc', svc)])"
   ]
  },
  {
   "cell_type": "code",
   "execution_count": 11,
   "metadata": {},
   "outputs": [],
   "source": [
    "from sklearn.pipeline import Pipeline\n",
    "from sklearn.model_selection import GridSearchCV\n",
    "from sklearn.svm import SVC\n",
    "\n",
    "# TODO\n",
    "scaler = StandardScaler()\n",
    "pca = PCA()\n",
    "svc = SVC(kernel=\"rbf\")\n",
    "pipe = Pipeline(steps=[('scaler', scaler), ('pca', pca), ('svc', svc)])"
   ]
  },
  {
   "cell_type": "markdown",
   "metadata": {},
   "source": [
    "We next define all the parameters that we want to search over.  Define the following arrays:\n",
    "\n",
    "*  `ncomp_test`:  values from 3 to 10 representing number of PCs to test\n",
    "*  `C_test`:  values of `C` in the SVC to test.  Use `10^{-2}, 10^{-1}, ... ,10^{3}` \n",
    "*  `gam_test`:  values of `gamma` in the SVC to test.  Use `10^{-3}, 10^{-2}, ... ,10^{1}` "
   ]
  },
  {
   "cell_type": "code",
   "execution_count": 12,
   "metadata": {},
   "outputs": [],
   "source": [
    "# TODO\n",
    "ncomp_test = np.arange(3,11)\n",
    "powers1=np.arange(-2,4)\n",
    "c_test = pow(10.0,powers1)\n",
    "powers2=np.arange(-3,2)\n",
    "gam_test = pow(10.0,powers2)"
   ]
  },
  {
   "cell_type": "markdown",
   "metadata": {},
   "source": [
    "Next, we create a dictionary `params` of the form:\n",
    "\n",
    "    params =  {'pca__n_components': ncomp_test, 'svc__C' : c_test, ...}\n",
    "    \n",
    "Each key in the dictionary is the of the form `estimator__param` and the value is the values to be tested."
   ]
  },
  {
   "cell_type": "code",
   "execution_count": 13,
   "metadata": {},
   "outputs": [],
   "source": [
    "# TODO\n",
    "params = {'pca__n_components': ncomp_test, 'svc__C' : c_test,'svc__gamma':gam_test}"
   ]
  },
  {
   "cell_type": "markdown",
   "metadata": {},
   "source": [
    "Finally, an object `estimator = GridSearchCV(...)` from  `pipe` and `params`.  Set `cv=5`, `train_score=True` and `iid=False`.  Fit the estimator from the data `X,y`.  Then the estimator will perform the cross-validation over all the parameters.  This may take a minute since we are search over so many parameters."
   ]
  },
  {
   "cell_type": "code",
   "execution_count": 14,
   "metadata": {},
   "outputs": [
    {
     "data": {
      "text/plain": [
       "GridSearchCV(cv=5, error_score='raise-deprecating',\n",
       "       estimator=Pipeline(memory=None,\n",
       "     steps=[('scaler', StandardScaler(copy=True, with_mean=True, with_std=True)), ('pca', PCA(copy=True, iterated_power='auto', n_components=None, random_state=None,\n",
       "  svd_solver='auto', tol=0.0, whiten=False)), ('svc', SVC(C=1.0, cache_size=200, class_weight=None, coef0=0.0,\n",
       "  decision_function_shape='ovr', degree=3, gamma='auto_deprecated',\n",
       "  kernel='rbf', max_iter=-1, probability=False, random_state=None,\n",
       "  shrinking=True, tol=0.001, verbose=False))]),\n",
       "       fit_params=None, iid=False, n_jobs=None,\n",
       "       param_grid={'pca__n_components': array([ 3,  4,  5,  6,  7,  8,  9, 10]), 'svc__C': array([1.e-02, 1.e-01, 1.e+00, 1.e+01, 1.e+02, 1.e+03]), 'svc__gamma': array([1.e-03, 1.e-02, 1.e-01, 1.e+00, 1.e+01])},\n",
       "       pre_dispatch='2*n_jobs', refit=True, return_train_score=True,\n",
       "       scoring=None, verbose=0)"
      ]
     },
     "execution_count": 14,
     "metadata": {},
     "output_type": "execute_result"
    }
   ],
   "source": [
    "# TODO\n",
    "estimator = GridSearchCV(pipe,params,cv=5, return_train_score=True, iid=False)\n",
    "estimator.fit(X,y)"
   ]
  },
  {
   "cell_type": "markdown",
   "metadata": {},
   "source": [
    "Print the best test score and best parameters.  They are fields in `estimator`.  If you did it correctly, it should be a little higher than the logistic regression (about 0.97 to 0.98 accuracy)."
   ]
  },
  {
   "cell_type": "code",
   "execution_count": 15,
   "metadata": {},
   "outputs": [
    {
     "name": "stdout",
     "output_type": "stream",
     "text": [
      "Best Score: 0.978078078078078\n",
      "Best Parameter: {'pca__n_components': 5, 'svc__C': 1.0, 'svc__gamma': 0.1}\n"
     ]
    }
   ],
   "source": [
    "# TODO\n",
    "print('Best Score:',estimator.best_score_)\n",
    "print('Best Parameter:',estimator.best_params_)"
   ]
  },
  {
   "cell_type": "markdown",
   "metadata": {},
   "source": [
    "Finally, you can get the test score for all the parameter choices from \n",
    "\n",
    "    test_score = estimator.cv_results_['mean_test_score']\n",
    "    \n",
    "Use the `imshow` command to plot the mean test score over `gamma` and `C` for the value `n_components=5`."
   ]
  },
  {
   "cell_type": "code",
   "execution_count": 16,
   "metadata": {},
   "outputs": [
    {
     "data": {
      "text/plain": [
       "[Text(0, 0, '0.001'),\n",
       " Text(0, 0, '0.01'),\n",
       " Text(0, 0, '0.1'),\n",
       " Text(0, 0, '1.0'),\n",
       " Text(0, 0, '10.0')]"
      ]
     },
     "execution_count": 16,
     "metadata": {},
     "output_type": "execute_result"
    },
    {
     "data": {
      "image/png": "[encoded data removed]",
      "text/plain": [
       "<Figure size 432x288 with 2 Axes>"
      ]
     },
     "metadata": {
      "needs_background": "light"
     },
     "output_type": "display_data"
    }
   ],
   "source": [
    "# TODO\n",
    "test_score = estimator.cv_results_['mean_test_score']\n",
    "comp_five=test_score[60:90]\n",
    "\n",
    "plt.imshow(comp_five.reshape(6,5), aspect='auto', cmap='Greens')\n",
    "plt.ylabel('C')\n",
    "plt.xlabel('Gamma')\n",
    "plt.colorbar()\n",
    "\n",
    "ax = plt.gca()\n",
    "ax.set_yticks(np.arange(len(c_test)))\n",
    "ax.set_yticklabels(c_test)\n",
    "ax.set_xticks(np.arange(len(gam_test)))\n",
    "ax.set_xticklabels(gam_test)"
   ]
  },
  {
   "cell_type": "code",
   "execution_count": null,
   "metadata": {},
   "outputs": [],
   "source": []
  }
 ],
 "metadata": {
  "kernelspec": {
   "display_name": "Python 3",
   "language": "python",
   "name": "python3"
  },
  "language_info": {
   "codemirror_mode": {
    "name": "ipython",
    "version": 3
   },
   "file_extension": ".py",
   "mimetype": "text/x-python",
   "name": "python",
   "nbconvert_exporter": "python",
   "pygments_lexer": "ipython3",
   "version": "3.7.5"
  }
 },
 "nbformat": 4,
 "nbformat_minor": 2
}
