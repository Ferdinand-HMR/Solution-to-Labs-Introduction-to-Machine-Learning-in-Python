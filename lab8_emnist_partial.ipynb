{
 "cells": [
  {
   "cell_type": "markdown",
   "metadata": {},
   "source": [
    "# Lab: SVMs on Extended MNIST\n",
    "\n",
    "In the [MNIST demo](demo_mnist_svm.ipynb), we saw how SVMs can be used for the classic MNIST problem of digit recognition. In this lab, we are going to extend the MNIST dataset by adding a number of non-digit letters and see if the classifier can distinguish the digits from the non-digits. All non-digits will be lumped as a single 11-th class. This is a highly simplified version of 'detection' problem (as opposed to 'classification' problem). Detection is vital in OCR and related problems since the non useful characters must be rejected. \n",
    "\n",
    "In addition to the concepts in the demo, you will learn:\n",
    "* Combine multiple datasets\n",
    "* Select the SVM parameters (`C` and `gamma`) via cross-validation.\n",
    "* Use the `GridSearchCV` method to search for parameters with cross-validation.\n",
    "\n",
    "Note:  An [earlier version](lab_emnist_2017_partial.ipynb) of this lab made you manually create the combined letter and digit data.  In this lab, we will download the data from NIST website.  But, the old lab is still useful to look at if you want to see how to use `skimage` package for a number of image pre-processing tasks."
   ]
  },
  {
   "cell_type": "markdown",
   "metadata": {},
   "source": [
    "As usual, we download the standard packages"
   ]
  },
  {
   "cell_type": "code",
   "execution_count": 1,
   "metadata": {},
   "outputs": [],
   "source": [
    "import numpy as np\n",
    "import matplotlib.pyplot as plt\n",
    "%matplotlib inline\n",
    "from sklearn import linear_model, preprocessing"
   ]
  },
  {
   "cell_type": "markdown",
   "metadata": {},
   "source": [
    "## Downloading the EMNIST Dataset\n",
    "\n",
    "After creating the highly popular MNIST dataset, NIST created an extended version of the dataset to include letters and digits.\n",
    "  The extended datase (called EMNIST) also has many more examples per class.  \n",
    "\n",
    "To download the data, first go to the [EMNIST webpage](https://www.nist.gov/itl/iad/image-group/emnist-dataset).  Near the bottom, you will see a link for `MATLAB format dataset`.  If you click on this link, you will download a `zip` file with several datasets in it.  The total file is 726M, so it may take some time and diskspace to download.  Extract two files:\n",
    "* `emnist-digits.mat`:  This is a file of digits `0` to `9`, but with more examples per class.\n",
    "* `emnist-letters.mat`:  This is a file of letters `a/A` to `z/Z`.  The lower and upper case letters are grouped into the same class.\n",
    "\n",
    "Once you get these two files, you can save yourself the diskspace and remove all the other files."
   ]
  },
  {
   "cell_type": "code",
   "execution_count": 2,
   "metadata": {},
   "outputs": [],
   "source": [
    "# TODO:  Download emnist-letters.mat and emnist-digits.mat to the working directory"
   ]
  },
  {
   "cell_type": "markdown",
   "metadata": {},
   "source": [
    "Since MATLAB files are still widely-used, Python has excellent routines for loading MATLAB files.  The function below uses the `scipy.io` package to extract the relevant fields from the MATLAB file.  Specifically, the function extracts the training and test data from MATLAB file. "
   ]
  },
  {
   "cell_type": "code",
   "execution_count": 3,
   "metadata": {},
   "outputs": [],
   "source": [
    "import scipy.io\n",
    "def load_emnist(file_path='emnist-digits.mat'):\n",
    "    \"\"\"\n",
    "    Loads training and test data with ntr and nts training and test samples\n",
    "    The `file_path` is the location of the `eminst-balanced.mat`.\n",
    "    \"\"\"    \n",
    "    \n",
    "    # Load the MATLAB file\n",
    "    mat = scipy.io.loadmat(file_path)\n",
    "    \n",
    "    # Get the training data\n",
    "    Xtr = mat['dataset'][0][0][0][0][0][0][:]\n",
    "    ntr = Xtr.shape[0]\n",
    "    ytr = mat['dataset'][0][0][0][0][0][1][:].reshape(ntr).astype(int)\n",
    "    \n",
    "    # Get the test data\n",
    "    Xts = mat['dataset'][0][0][1][0][0][0][:]\n",
    "    nts = Xts.shape[0]\n",
    "    yts = mat['dataset'][0][0][1][0][0][1][:].reshape(nts).astype(int)\n",
    "    \n",
    "    print(\"%d training samples, %d test samples loaded\" % (ntr, nts))\n",
    "\n",
    "    return [Xtr, Xts, ytr, yts]"
   ]
  },
  {
   "cell_type": "markdown",
   "metadata": {},
   "source": [
    "Use the function above to get all the digit images from the `emnist-digits.mat` file.  "
   ]
  },
  {
   "cell_type": "code",
   "execution_count": 4,
   "metadata": {
    "scrolled": true
   },
   "outputs": [
    {
     "name": "stdout",
     "output_type": "stream",
     "text": [
      "240000 training samples, 40000 test samples loaded\n",
      "(40000, 784)\n"
     ]
    }
   ],
   "source": [
    "# TODO:  Load the digit data from emnist-digits.mat\n",
    "Xtr_dig, Xts_dig, ytr_dig, yts_dig = load_emnist('emnist-digits.mat')\n",
    "print(Xts_dig.shape)"
   ]
  },
  {
   "cell_type": "markdown",
   "metadata": {},
   "source": [
    "Next, use the function above to get all the letter characters from the `emnist-letters.mat` file.  "
   ]
  },
  {
   "cell_type": "code",
   "execution_count": 5,
   "metadata": {},
   "outputs": [
    {
     "name": "stdout",
     "output_type": "stream",
     "text": [
      "124800 training samples, 20800 test samples loaded\n"
     ]
    }
   ],
   "source": [
    "# TODO:  Load the digit data from emnist-letters.mat\n",
    "Xtr_let, Xts_let, ytr_let, yts_let = load_emnist('emnist-letters.mat')"
   ]
  },
  {
   "cell_type": "markdown",
   "metadata": {},
   "source": [
    "We will use the function from the demo to plot the digits."
   ]
  },
  {
   "cell_type": "code",
   "execution_count": 6,
   "metadata": {},
   "outputs": [],
   "source": [
    "def plt_digit(x,y=None):\n",
    "    nrow = 28\n",
    "    ncol = 28\n",
    "    xsq = x.reshape((nrow,ncol))\n",
    "    plt.imshow(xsq.T,  cmap='Greys_r')\n",
    "    plt.xticks([])\n",
    "    plt.yticks([])    \n",
    "    if y != None:\n",
    "        plt.title('%d' % y)        "
   ]
  },
  {
   "cell_type": "markdown",
   "metadata": {},
   "source": [
    "Plot 8 random samples from the digit training data.  You can use the `plt_digit` function above with `subplot` to create a nice display.  You may want to size your plot with the `plt.figure(figsize=(10,20))` command."
   ]
  },
  {
   "cell_type": "code",
   "execution_count": 7,
   "metadata": {},
   "outputs": [
    {
     "data": {
      "image/png": "[encoded data removed]",
      "text/plain": [
       "<Figure size 720x1440 with 1 Axes>"
      ]
     },
     "metadata": {},
     "output_type": "display_data"
    },
    {
     "data": {
      "image/png": "[encoded data removed]",
      "text/plain": [
       "<Figure size 720x1440 with 1 Axes>"
      ]
     },
     "metadata": {},
     "output_type": "display_data"
    },
    {
     "data": {
      "image/png": "[encoded data removed]",
      "text/plain": [
       "<Figure size 720x1440 with 1 Axes>"
      ]
     },
     "metadata": {},
     "output_type": "display_data"
    },
    {
     "data": {
      "image/png": "[encoded data removed]",
      "text/plain": [
       "<Figure size 720x1440 with 1 Axes>"
      ]
     },
     "metadata": {},
     "output_type": "display_data"
    },
    {
     "data": {
      "image/png": "[encoded data removed]",
      "text/plain": [
       "<Figure size 720x1440 with 1 Axes>"
      ]
     },
     "metadata": {},
     "output_type": "display_data"
    },
    {
     "data": {
      "image/png": "[encoded data removed]",
      "text/plain": [
       "<Figure size 720x1440 with 1 Axes>"
      ]
     },
     "metadata": {},
     "output_type": "display_data"
    },
    {
     "data": {
      "image/png": "[encoded data removed]",
      "text/plain": [
       "<Figure size 720x1440 with 1 Axes>"
      ]
     },
     "metadata": {},
     "output_type": "display_data"
    },
    {
     "data": {
      "image/png": "[encoded data removed]",
      "text/plain": [
       "<Figure size 720x1440 with 1 Axes>"
      ]
     },
     "metadata": {},
     "output_type": "display_data"
    }
   ],
   "source": [
    "# TODO:  Plot 8 random samples from the training data of the digits\n",
    "nplt_dig = 8\n",
    "nsamp_dig = Xtr_dig.shape[0]\n",
    "Iperm_dig = np.random.permutation(nsamp_dig)\n",
    "\n",
    "# Plot the images using the subplot command\n",
    "for i in range(nplt_dig):\n",
    "    ind_dig = Iperm_dig[i]\n",
    "    plt.figure(figsize=(10,20))\n",
    "    plt.subplot(nplt_dig,1,i+1)\n",
    "    plt_digit(Xtr_dig[ind_dig,:])"
   ]
  },
  {
   "cell_type": "markdown",
   "metadata": {},
   "source": [
    "Next, plot 8 samples from the letters training data.  You should see that the labels go from 0 to 25 corresponding to `a` to `z`.  Upper and lower case letters belong to the same class."
   ]
  },
  {
   "cell_type": "code",
   "execution_count": 8,
   "metadata": {},
   "outputs": [
    {
     "name": "stdout",
     "output_type": "stream",
     "text": [
      "14\n",
      "14\n",
      "13\n",
      "8\n",
      "3\n",
      "7\n",
      "26\n",
      "22\n"
     ]
    },
    {
     "data": {
      "image/png": "[encoded data removed]",
      "text/plain": [
       "<Figure size 720x1440 with 1 Axes>"
      ]
     },
     "metadata": {},
     "output_type": "display_data"
    },
    {
     "data": {
      "image/png": "[encoded data removed]",
      "text/plain": [
       "<Figure size 720x1440 with 1 Axes>"
      ]
     },
     "metadata": {},
     "output_type": "display_data"
    },
    {
     "data": {
      "image/png": "[encoded data removed]",
      "text/plain": [
       "<Figure size 720x1440 with 1 Axes>"
      ]
     },
     "metadata": {},
     "output_type": "display_data"
    },
    {
     "data": {
      "image/png": "[encoded data removed]",
      "text/plain": [
       "<Figure size 720x1440 with 1 Axes>"
      ]
     },
     "metadata": {},
     "output_type": "display_data"
    },
    {
     "data": {
      "image/png": "[encoded data removed]",
      "text/plain": [
       "<Figure size 720x1440 with 1 Axes>"
      ]
     },
     "metadata": {},
     "output_type": "display_data"
    },
    {
     "data": {
      "image/png": "[encoded data removed]",
      "text/plain": [
       "<Figure size 720x1440 with 1 Axes>"
      ]
     },
     "metadata": {},
     "output_type": "display_data"
    },
    {
     "data": {
      "image/png": "[encoded data removed]",
      "text/plain": [
       "<Figure size 720x1440 with 1 Axes>"
      ]
     },
     "metadata": {},
     "output_type": "display_data"
    },
    {
     "data": {
      "image/png": "[encoded data removed]",
      "text/plain": [
       "<Figure size 720x1440 with 1 Axes>"
      ]
     },
     "metadata": {},
     "output_type": "display_data"
    }
   ],
   "source": [
    "# TODO:  Plot 8 random samples from the training data of the letters\n",
    "nplt_let = 8\n",
    "nsamp_let = Xtr_let.shape[0]\n",
    "Iperm_let = np.random.permutation(nsamp_let)\n",
    "\n",
    "# Plot the images using the subplot command\n",
    "for i in range(nplt_let):\n",
    "    ind_let = Iperm_let[i]\n",
    "    plt.figure(figsize=(10,20))\n",
    "    plt.subplot(1,nplt_let,i+1)\n",
    "    plt_digit(Xtr_let[ind_let,:])\n",
    "    print(ytr_let[ind_let])"
   ]
  },
  {
   "cell_type": "markdown",
   "metadata": {},
   "source": [
    "## Creating a Non-Digit Class\n",
    "\n",
    "SVM classifiers are VERY SLOW to train.  The training is particularly slow when there are a large number of classes, since the one classifier must be trained for each pair of labels.  To make the problem easier, we are going to lump all of the letters in one class and add that class to the digits.  \n",
    "\n",
    "Before we begin, we first need to remove all the letters corresponding to `i/I`, `l/L` and `o/O`.  The reason is that these letters would get confused with the digits `0` and `1`.  Create arrays `Xtr_let_rem` and `ytr_let_rem` from the data `Xtr_let` and `ytr_let`, where the samples `i` with `ytr_let[i] == 9, 12` or `15` are removed.   Create `Xts_let_rem` and `yts_let_rem` similarly.\n",
    "\n",
    "If you are clever, you can do this without a for-loop via python broadcasting and `np.all(..., axis=1)` command.  But, you will receive full marks if you use a `for-loop`."
   ]
  },
  {
   "cell_type": "code",
   "execution_count": 9,
   "metadata": {},
   "outputs": [
    {
     "name": "stdout",
     "output_type": "stream",
     "text": [
      "before: (124800, 784)\n",
      "(124800,)\n",
      "(20800, 784)\n",
      "(20800,)\n",
      "After: (110400, 784)\n",
      "(110400,)\n",
      "(18400, 784)\n",
      "(18400,)\n"
     ]
    }
   ],
   "source": [
    "remove_list = np.array([9,12,15])\n",
    "print('before:',Xtr_let.shape)\n",
    "print(ytr_let.shape)\n",
    "print(Xts_let.shape)\n",
    "print(yts_let.shape)\n",
    "index_tr=[]\n",
    "index_ts=[]\n",
    "\n",
    "# TODO:  Create arrays with labels 9, 12 and 15 removed\n",
    "\n",
    "#For tr\n",
    "for value in remove_list:\n",
    "    for i in range(ytr_let.shape[0]):\n",
    "        if ytr_let[i] == value:\n",
    "            index_tr.append(i)\n",
    "            \n",
    "Xtr_let_rem = np.delete(Xtr_let,index_tr,axis=0)\n",
    "ytr_let_rem = np.delete(ytr_let, index_tr, axis=0)\n",
    "\n",
    "#For ts\n",
    "for value in remove_list:\n",
    "    for i in range(yts_let.shape[0]):\n",
    "        if yts_let[i] == value:\n",
    "            index_ts.append(i)\n",
    "            \n",
    "Xts_let_rem = np.delete(Xts_let,index_ts,axis=0)\n",
    "yts_let_rem = np.delete(yts_let, index_ts, axis =0)\n",
    "\n",
    "\n",
    "print('After:',Xtr_let_rem.shape)\n",
    "print(ytr_let_rem.shape)\n",
    "print(Xts_let_rem.shape)\n",
    "print(yts_let_rem.shape)"
   ]
  },
  {
   "cell_type": "markdown",
   "metadata": {},
   "source": [
    "Since training and testing an SVM is VERY SLOW, we will use only a small subset of the training and test data.  Of course, you will not get great results with this small dataset.  But, we can at least illustrate the basic concepts.  \n",
    "\n",
    "Create arrays `Xtr1_dig` and `ytr1_dig` by selecting 5000 random training digit samples from `Xtr_dig` and `ytr_dig`.  Create arrays `Xtr1_let` and `ytr1_let` by selecting 1000 random training letter samples from `Xtr_let_rem` and `ytr_let_rem`.  Similarly, create test arrays `Xts1_dig,Xts1_let,yts1_dig,yts1_let` with 5000 digits and 1000 letters."
   ]
  },
  {
   "cell_type": "code",
   "execution_count": 10,
   "metadata": {},
   "outputs": [
    {
     "name": "stdout",
     "output_type": "stream",
     "text": [
      "Xtr1_dig.shape: (5000, 784)\n",
      "Xtr1_let.shape (1000, 784)\n",
      "ytr1_dig.shape (5000,)\n",
      "ytr1_let.shape (1000,)\n",
      "***************************\n",
      "Xts1_dig.shape: (5000, 784)\n",
      "Xts1_let.shape (1000, 784)\n",
      "yts1_dig.shape (5000,)\n",
      "yts1_let.shape (1000,)\n"
     ]
    }
   ],
   "source": [
    "# Number of training and test digits and letters\n",
    "ntr_dig = 5000\n",
    "ntr_let = 1000\n",
    "nts_dig = 5000\n",
    "nts_let = 1000\n",
    "# TODO Create sub-sampled training and test data\n",
    "\n",
    "# Xtr1_dig, ytr1_dig = ...\n",
    "nsamp_tr_dig = Xtr_dig.shape[0]\n",
    "Iperm_tr_dig = np.random.permutation(nsamp_tr_dig)\n",
    "Xtr1_dig = Xtr_dig[Iperm_tr_dig[:ntr_dig],:]\n",
    "ytr1_dig = ytr_dig[Iperm_tr_dig[:ntr_dig]]\n",
    "\n",
    "# Xts1_dig, yts1_dig = ...\n",
    "nsamp_ts_dig = Xts_dig.shape[0]\n",
    "Iperm_ts_dig = np.random.permutation(nsamp_ts_dig)\n",
    "Xts1_dig=Xts_dig[Iperm_ts_dig[:nts_dig],:]\n",
    "yts1_dig=yts_dig[Iperm_ts_dig[:nts_dig]]\n",
    "\n",
    "# Xtr1_let, ytr1_let = ...\n",
    "nsamp_tr_let = Xtr_let_rem.shape[0]\n",
    "Iperm_tr_let = np.random.permutation(nsamp_tr_let)\n",
    "Xtr1_let=Xtr_let_rem[Iperm_tr_let[:ntr_let],:]\n",
    "ytr1_let=ytr_let_rem[Iperm_tr_let[:ntr_let]]\n",
    "\n",
    "# Xts1_let, yts1_let = ... \n",
    "nsamp_ts_let = Xts_let_rem.shape[0]\n",
    "Iperm_ts_let = np.random.permutation(nsamp_ts_let)\n",
    "Xts1_let=Xtr_let_rem[Iperm_ts_let[:nts_let],:]\n",
    "yts1_let=ytr_let_rem[Iperm_ts_let[:nts_let]]\n",
    "\n",
    "print('Xtr1_dig.shape:',Xtr1_dig.shape)\n",
    "print('Xtr1_let.shape',Xtr1_let.shape)\n",
    "print('ytr1_dig.shape',ytr1_dig.shape)\n",
    "print('ytr1_let.shape',ytr1_let.shape)\n",
    "print('***************************')\n",
    "print('Xts1_dig.shape:',Xts1_dig.shape)\n",
    "print('Xts1_let.shape',Xts1_let.shape)\n",
    "print('yts1_dig.shape',yts1_dig.shape)\n",
    "print('yts1_let.shape',yts1_let.shape)"
   ]
  },
  {
   "cell_type": "markdown",
   "metadata": {},
   "source": [
    "Next, we create data by combining the digit and letter arrays.\n",
    "* Create an array `Xtr` by stacking `Xtr1_dig`, `Xtr1_let`.  This should result in 6000 total samples.\n",
    "* Create a new label vector `ytr` where `ytr[i] = ytr1_dig[i]` for any digit sample and `ytr[i]=10` for any letter sample.  Thus, all the letters are lumped into a single class with label 11.\n",
    "\n",
    "Create test arrays `Xts` and `yts` similarly. \n",
    "\n",
    "You may wish to use the `np.hstack` and `np.vstack` methods."
   ]
  },
  {
   "cell_type": "code",
   "execution_count": 11,
   "metadata": {},
   "outputs": [
    {
     "name": "stdout",
     "output_type": "stream",
     "text": [
      "(6000, 784)\n",
      "(6000, 784)\n",
      "(1000,)\n",
      "(1000,)\n",
      "(6000,)\n",
      "(6000,)\n"
     ]
    }
   ],
   "source": [
    "# TODO:  Create combined letter and digit training and test data\n",
    "Xtr=np.vstack((Xtr1_dig,Xtr1_let))\n",
    "Xts=np.vstack((Xts1_dig,Xts1_let))\n",
    "print(Xtr.shape)\n",
    "print(Xts.shape)\n",
    "print(ytr1_let.shape)\n",
    "letters=np.ones(((ytr1_let.shape[0]),))*10\n",
    "print(letters.shape)\n",
    "ytr=np.vstack((ytr1_dig[:,None],letters[:,None])).ravel()\n",
    "yts=np.vstack((yts1_dig[:,None],letters[:,None])).ravel()\n",
    "\n",
    "print(ytr.shape)\n",
    "print(yts.shape)\n"
   ]
  },
  {
   "cell_type": "markdown",
   "metadata": {},
   "source": [
    "The training data above takes values from 0 to 255.  Rescale the data from -1 to 1.  This will get slightly better performance on the SVM.  Save the scaled data into arrays `Xtr1` and `Xts1`."
   ]
  },
  {
   "cell_type": "code",
   "execution_count": 12,
   "metadata": {},
   "outputs": [],
   "source": [
    "# TODO:  Rescale the data from -1 to 1\n",
    "Xtr1 = Xtr/255.0*2 - 1\n",
    "#print(Xtr1)\n",
    "Xts1 = Xts/255.0*2 - 1\n",
    "#print(Xts1)"
   ]
  },
  {
   "cell_type": "markdown",
   "metadata": {},
   "source": [
    "## Run the SVM classifier\n",
    "\n",
    "First create the SVM classifer. Use an `rbf` classifier with `C=2.8` and `gamma=.0073`. We will look at how to select these parameters laters."
   ]
  },
  {
   "cell_type": "code",
   "execution_count": 13,
   "metadata": {},
   "outputs": [],
   "source": [
    "from sklearn import svm\n",
    "\n",
    "# TODO:  Create a classifier: a support vector classifier\n",
    "svc = svm.SVC(probability=False,  kernel=\"rbf\", C=2.8, gamma=.0073,verbose=10)"
   ]
  },
  {
   "cell_type": "markdown",
   "metadata": {},
   "source": [
    "Fit the classifier using the scaled training data.  SVMs are insanely slow to train.  But, in this lab, we have kept the training size very small. So, the fitting should take about a minute or two."
   ]
  },
  {
   "cell_type": "code",
   "execution_count": 14,
   "metadata": {},
   "outputs": [
    {
     "name": "stdout",
     "output_type": "stream",
     "text": [
      "[LibSVM]"
     ]
    },
    {
     "data": {
      "text/plain": [
       "SVC(C=2.8, cache_size=200, class_weight=None, coef0=0.0,\n",
       "  decision_function_shape='ovr', degree=3, gamma=0.0073, kernel='rbf',\n",
       "  max_iter=-1, probability=False, random_state=None, shrinking=True,\n",
       "  tol=0.001, verbose=10)"
      ]
     },
     "execution_count": 14,
     "metadata": {},
     "output_type": "execute_result"
    }
   ],
   "source": [
    "# TODO:  Fit the classifier on the training data. \n",
    "svc.fit(Xtr1,ytr)"
   ]
  },
  {
   "cell_type": "markdown",
   "metadata": {},
   "source": [
    "Measure the accuracy on the test data.  This too will take another huge amount of time.  Print the accuracy.  If you did everything right, you should get an accuracy of around 89%."
   ]
  },
  {
   "cell_type": "code",
   "execution_count": 15,
   "metadata": {},
   "outputs": [
    {
     "name": "stdout",
     "output_type": "stream",
     "text": [
      "Accuaracy = 0.908667\n"
     ]
    }
   ],
   "source": [
    "# TODO:  Measure error on the test data\n",
    "yhat = svc.predict(Xts1)\n",
    "acc = np.mean(yhat == yts)\n",
    "print('Accuaracy = {0:f}'.format(acc))"
   ]
  },
  {
   "cell_type": "markdown",
   "metadata": {},
   "source": [
    "The error rate is quite a bit higher than what we got in the digits only case.  Actually, had we done a classifier using all 36 labels instead of collapsing the letters to a single class, the SVM classifier would have done much better.  The reason is that the \"letters\" class is now extremely complex.  \n",
    "\n",
    "Print a confusion matrix.  You should see that the error rate on the \"letters\" class is much higher."
   ]
  },
  {
   "cell_type": "code",
   "execution_count": 16,
   "metadata": {},
   "outputs": [
    {
     "name": "stdout",
     "output_type": "stream",
     "text": [
      "[[493   0   0   0   0   0   0   0   1   0  29]\n",
      " [  0 523   0   0   1   0   0   2   0   0  10]\n",
      " [  0   0 444   1   0   0   0   2   1   0  32]\n",
      " [  0   0   4 467   1   4   0   1   7   0  19]\n",
      " [  0   2   0   0 412   0   2   1   1   3  50]\n",
      " [  0   0   0   8   1 421   0   1   0   0  55]\n",
      " [  2   1   0   0   0   1 486   0   0   0  30]\n",
      " [  0   2   0   0   1   0   0 490   1   3  10]\n",
      " [  0   3   0   2   0   4   1   0 427   1  49]\n",
      " [  0   2   0   1   4   0   0   6   3 453  18]\n",
      " [ 14   8  30   6  21  34  12   7  13  19 836]]\n"
     ]
    },
    {
     "data": {
      "text/plain": [
       "<matplotlib.colorbar.Colorbar at 0x1a1c141080>"
      ]
     },
     "execution_count": 16,
     "metadata": {},
     "output_type": "execute_result"
    },
    {
     "data": {
      "image/png": "[encoded data removed]",
      "text/plain": [
       "<Figure size 432x288 with 2 Axes>"
      ]
     },
     "metadata": {
      "needs_background": "light"
     },
     "output_type": "display_data"
    }
   ],
   "source": [
    "# TODO:  Print a confusion matrix\n",
    "from sklearn.metrics import confusion_matrix\n",
    "C = confusion_matrix(yts,yhat)\n",
    "#print(C.shape)\n",
    "# Normalize the confusion matrix/\n",
    "#Csum = np.sum(C,1)\n",
    "#C = C / Csum[None,:]\n",
    "\n",
    "# Print the confusion matrix\n",
    "print(np.array_str(C, precision=3, suppress_small=True))\n",
    "plt.imshow(C, interpolation='none')\n",
    "plt.colorbar()"
   ]
  },
  {
   "cell_type": "markdown",
   "metadata": {},
   "source": [
    "Print:\n",
    "* What fraction of digits are mislabeled as letters?  \n",
    "* What fraction of letters are mislabeled as digits?"
   ]
  },
  {
   "cell_type": "code",
   "execution_count": 17,
   "metadata": {},
   "outputs": [
    {
     "name": "stdout",
     "output_type": "stream",
     "text": [
      "Fraction of digits are mislabeled as letters: 0.0604\n",
      "Fraction of letters are mislabeled as digits: 0.164\n"
     ]
    }
   ],
   "source": [
    "# TODO:  Print above two error rates\n",
    "print('Fraction of digits are mislabeled as letters:',np.sum(C[:-1,-1])/np.sum(C[:-1, :]))\n",
    "print('Fraction of letters are mislabeled as digits:',np.sum(C[10,:-1])/np.sum(C[10, :]))"
   ]
  },
  {
   "cell_type": "markdown",
   "metadata": {},
   "source": [
    "## Selecting gamma and C via Cross-Validation (Using For-Loops)\n",
    "\n",
    "In the above example, and in the demo, we used a given `gamma` and `C` value.  The selection of the parameters depend on the problem and decent performance of the SVM requires that you select these parameters carefully.  The best way to select the parameters is via cross validation.  Specifically, generally, one tries different values of `gamma` and `C` and selects the pair of values the lowest test error rate.\n",
    "\n",
    "In the code below, we will try to use 3 values for `C` and `gamma` as specified in the arrays `C_test` and `gam_test`.  For each `C` and `gamma` in these arrays, fit a model on the training data and measure the accuracy on the test data.  Then, print the `C` and `gamma` that result in the best accuracy.   \n",
    "\n",
    "Normally, you would try a large number of values for each of the parameters, but an SVM is very slow to train -- even with this small data set.  So, we will just do 3 values of each.  Even then, this could take 30 minutes or so to complete. \n",
    "\n",
    "In this lab, you may do the parameter search over `C` and `gamma` in one of two ways:\n",
    "* This section:  Use for loops and manually search over the parameters.  This is more direct and you will see and control exactly what is happening.\n",
    "* Next section:  Use the `GridSearchCV` method in the `sklearn` package.  This takes a little reading, but once you learn this method, you can more easily use this for complex parameter searches.\n",
    "\n",
    "**You only need to submit the solutions to one of the two sections.**  Pick whichever one you want."
   ]
  },
  {
   "cell_type": "code",
   "execution_count": 18,
   "metadata": {
    "scrolled": true
   },
   "outputs": [
    {
     "name": "stdout",
     "output_type": "stream",
     "text": [
      "[LibSVM]0.784\n",
      "[LibSVM]0.5938333333333333\n",
      "[LibSVM]0.16666666666666666\n",
      "[LibSVM]0.8678333333333333\n",
      "[LibSVM]0.8881666666666667\n",
      "[LibSVM]0.21883333333333332\n",
      "[LibSVM]0.902\n",
      "[LibSVM]0.8966666666666666\n",
      "[LibSVM]0.2225\n"
     ]
    }
   ],
   "source": [
    "C_test = [0.1,1,10]\n",
    "gam_test = [0.001,0.01,0.1]\n",
    "\n",
    "nC = len(C_test)\n",
    "ngam = len(gam_test)\n",
    "acc = np.zeros((nC,ngam))\n",
    "max2=0\n",
    "\n",
    "max_c=0\n",
    "max_g=0\n",
    "for c in range(len(C_test)):\n",
    "    for g in range(len(gam_test)):\n",
    "        svc = svm.SVC(probability=False, kernel=\"rbf\", C = C_test[c], gamma = gam_test[g], verbose=10)\n",
    "        svc.fit(Xtr1,ytr)\n",
    "        yhat = svc.predict(Xts1)\n",
    "        accuracy = np.mean(yhat == yts)\n",
    "        if(max2<accuracy):\n",
    "            max2=accuracy\n",
    "            max_c=C_test[c]\n",
    "            max_g=gam_test[g]\n",
    "        print(accuracy)\n",
    "        acc[c][g] = accuracy\n",
    "    \n",
    "#print(c,g)    \n",
    "# TODO:  Measure and print the accuracy for each C and gamma value.  Store the results in acc"
   ]
  },
  {
   "cell_type": "code",
   "execution_count": 19,
   "metadata": {},
   "outputs": [
    {
     "name": "stdout",
     "output_type": "stream",
     "text": [
      "[[0.784      0.59383333 0.16666667]\n",
      " [0.86783333 0.88816667 0.21883333]\n",
      " [0.902      0.89666667 0.2225    ]]\n"
     ]
    }
   ],
   "source": [
    "# TODO:  Print the accuracy matrix\n",
    "print(acc)"
   ]
  },
  {
   "cell_type": "code",
   "execution_count": 20,
   "metadata": {},
   "outputs": [
    {
     "name": "stdout",
     "output_type": "stream",
     "text": [
      "The maximum value of accuracy= 0.902\n",
      "Value of C corresponding to Max Accuracy: 10\n",
      "Value of Gamma corresponding to Max Accuracy: 0.001\n"
     ]
    }
   ],
   "source": [
    "# TODO:  Print the maximum accuracy and the corresponding best C and gamma\n",
    "max1=np.max(acc)\n",
    "print('The maximum value of accuracy=',np.max(acc))\n",
    "#print(np.argwhere(acc==max1))\n",
    "print('Value of C corresponding to Max Accuracy:',max_c)\n",
    "print('Value of Gamma corresponding to Max Accuracy:',max_g)"
   ]
  },
  {
   "cell_type": "markdown",
   "metadata": {
    "collapsed": true
   },
   "source": [
    "## Using `GridSearchCV` (Optional Section)\n",
    "\n",
    "\n",
    "In the previous section, you would have likely used `for-loops` to search over the different `C` and `gamma` values.  Since this type of parameter search is so commonly used, `sklearn` has an excellent method `GridSearchCV` that can perform all the operations for you.  In this lab, `GridSearchCV` is not that useful.  But, once you get to more complex parameter searches, the `GridSearchCV` method can save you writing a lot of code.  Importantly, `GridSearchCV` supports parallelization so that fits with different parameters can be fit at the same time.  In this optional section, we will show how to use this method.  \n",
    "\n",
    "**You do not have to do this section, if you did the previous section**.  "
   ]
  },
  {
   "cell_type": "markdown",
   "metadata": {},
   "source": [
    "The `GridSearchCV` method does the train-test split in addition to the parameter search.  In this case, you have already a fixed train-test split.  So, you first need to combine the train and test data back into a single dataset.\n",
    "\n",
    "Create arrays `X` and `y` from `Xtr1`, `Xts1`, `ytr` and `yts`.  Use `np.vstack` and `np.hstack`."
   ]
  },
  {
   "cell_type": "code",
   "execution_count": 21,
   "metadata": {},
   "outputs": [],
   "source": [
    "# TODO:  Create combined trained and test data X and y.\n",
    "# X = ...\n",
    "# y = ..."
   ]
  },
  {
   "cell_type": "markdown",
   "metadata": {},
   "source": [
    "Normally, `GridSearchCV` will do $K$-fold validation and automatically split the data into training and test in each fold.  But, in this case, we want it to perform only one fold with a specific train-test split.  To do this, we need to do the following:\n",
    "* Create a vector `test_fold` where `test_fold[i] = -1` for the samples `i` in the training data (this indicates that they should not be used as test data in any fold) and `test_fold[i] = 0` for the samples `i` in the test data (this indicates that they should be as test data in fold 0).\n",
    "* Call the method  `ps = sklearn.model_selection.PredefinedSplit(test_fold)` to create a predefined test split object."
   ]
  },
  {
   "cell_type": "code",
   "execution_count": 22,
   "metadata": {},
   "outputs": [],
   "source": [
    "# TODO:  Create a pre-defined test split object \n",
    "# import sklearn.model_selection\n",
    "# test_fold = ...\n",
    "# ps = sklearn.model_selection.PredefinedSplit(test_fold)"
   ]
  },
  {
   "cell_type": "markdown",
   "metadata": {},
   "source": [
    "Next, read about the `GridSearchCV` method to set up a classifier that includes searching over the parameter grid.  \n",
    "* For the `param_grid` parameter, you will want to create a dictionary to search over `C` and `gamma`.  You will also need to select the `kernel` parameter.\n",
    "* Set `cv = ps` to use the fixed train-test split.\n",
    "* Set `verbose=10` to monitor the progress"
   ]
  },
  {
   "cell_type": "code",
   "execution_count": 23,
   "metadata": {},
   "outputs": [],
   "source": [
    "# TODO:  Create a GridSearchCV classifier\n",
    "# clf = ..."
   ]
  },
  {
   "cell_type": "markdown",
   "metadata": {},
   "source": [
    "Fit the classifier using the `fit` method.  The fit method will now search over all the parameters. This will take about 30 minutes."
   ]
  },
  {
   "cell_type": "code",
   "execution_count": 24,
   "metadata": {},
   "outputs": [],
   "source": [
    "# TODO: Fit the classifier"
   ]
  },
  {
   "cell_type": "markdown",
   "metadata": {},
   "source": [
    "Print the `best_score_` and `best_params_` attributes of the classifier to find the best score and parameters"
   ]
  },
  {
   "cell_type": "code",
   "execution_count": 25,
   "metadata": {},
   "outputs": [],
   "source": [
    "# TODO:  Print the best parameter and score of the classifier"
   ]
  },
  {
   "cell_type": "markdown",
   "metadata": {},
   "source": [
    "Finally, you can print the test and train score from the `cv_results_['mean_test_score']` and `cv_results_['mean_train_score']`."
   ]
  },
  {
   "cell_type": "code",
   "execution_count": 26,
   "metadata": {},
   "outputs": [],
   "source": [
    "# TODO:  Print the mean test score for each parameter value."
   ]
  },
  {
   "cell_type": "code",
   "execution_count": null,
   "metadata": {},
   "outputs": [],
   "source": []
  }
 ],
 "metadata": {
  "kernelspec": {
   "display_name": "Python 3",
   "language": "python",
   "name": "python3"
  },
  "language_info": {
   "codemirror_mode": {
    "name": "ipython",
    "version": 3
   },
   "file_extension": ".py",
   "mimetype": "text/x-python",
   "name": "python",
   "nbconvert_exporter": "python",
   "pygments_lexer": "ipython3",
   "version": "3.7.5"
  }
 },
 "nbformat": 4,
 "nbformat_minor": 2
}
