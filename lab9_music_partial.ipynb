{
 "cells": [
  {
   "cell_type": "markdown",
   "metadata": {},
   "source": [
    "# Lab:  Neural Networks for Music Classification\n",
    "\n",
    "In addition to the concepts in the [MNIST neural network demo](./demo2_mnist_neural.ipynb), in this lab, you will learn to:\n",
    "* Load a file from a URL\n",
    "* Extract simple features from audio samples for machine learning tasks such as speech recognition and classification\n",
    "* Build a simple neural network for music classification using these features\n",
    "* Use a callback to store the loss and accuracy history in the training process\n",
    "* Optimize the learning rate of the neural network\n",
    "\n",
    "To illustrate the basic concepts, we will look at a relatively simple music classification problem.  Given a sample of music, we want to determine which instrument (e.g. trumpet, violin, piano) is playing.  This dataset was generously supplied by [Prof. Juan Bello](http://steinhardt.nyu.edu/faculty/Juan_Pablo_Bello) at NYU Stenihardt  and his former PhD student Eric Humphrey (now at Spotify).  They have a complete website dedicated to deep learning methods in music informatics:\n",
    "\n",
    "http://marl.smusic.nyu.edu/wordpress/projects/feature-learning-deep-architectures/deep-learning-python-tutorial/\n",
    "\n",
    "You can also check out Juan's <a href=\"http://www.nyu.edu/classes/bello/ACA.html\">course</a>.\n",
    "\n"
   ]
  },
  {
   "cell_type": "markdown",
   "metadata": {},
   "source": [
    "## Loading Tensorflow\n",
    "\n",
    "Before starting this lab, you will need to install [Tensorflow](https://www.tensorflow.org/install/).  If you are using [Google colaboratory](https://colab.research.google.com), Tensorflow is already installed.  Run the following command to ensure Tensorflow is installed."
   ]
  },
  {
   "cell_type": "code",
   "execution_count": 1,
   "metadata": {},
   "outputs": [],
   "source": [
    "import tensorflow as tf"
   ]
  },
  {
   "cell_type": "markdown",
   "metadata": {},
   "source": [
    "Then, load the other packages."
   ]
  },
  {
   "cell_type": "code",
   "execution_count": 2,
   "metadata": {
    "scrolled": true
   },
   "outputs": [],
   "source": [
    "import numpy as np\n",
    "import matplotlib\n",
    "import matplotlib.pyplot as plt\n",
    "%matplotlib inline"
   ]
  },
  {
   "cell_type": "markdown",
   "metadata": {},
   "source": [
    "## Audio Feature Extraction with Librosa\n",
    "\n",
    "The key to audio classification is to extract the correct features. In addition to `keras`, we will need the `librosa` package.  The `librosa` package in python has a rich set of methods extracting the features of audio samples commonly used in machine learning tasks such as speech recognition and sound classification. \n",
    "\n",
    "Installation instructions and complete documentation for the package are given on the [librosa main page](https://librosa.github.io/librosa/).  On most systems, you should be able to simply use:\n",
    "\n",
    "    pip install -u librosa\n",
    "    \n",
    "For Unix, you may need to load some additional packages:\n",
    "\n",
    "    sudo apt-get install build-essential\n",
    "    sudo apt-get install libxext-dev python-qt4 qt4-dev-tools\n",
    "    pip install librosa\n",
    "    \n",
    "After you have installed the package, try to import it."
   ]
  },
  {
   "cell_type": "code",
   "execution_count": 3,
   "metadata": {},
   "outputs": [],
   "source": [
    "import librosa\n",
    "import librosa.display\n",
    "import librosa.feature"
   ]
  },
  {
   "cell_type": "markdown",
   "metadata": {},
   "source": [
    "In this lab, we will use a set of music samples from the website:\n",
    "\n",
    "http://theremin.music.uiowa.edu\n",
    "\n",
    "This website has a great set of samples for audio processing.  Look on the web for how to use the `requests.get` and `file.write` commands to load the file at the URL provided into your working directory.\n",
    "\n",
    "You can play the audio sample by copying the file to your local machine and playing it on any media player.  If you listen to it you will hear a soprano saxaphone (with vibrato) playing four notes (C, C#, D, Eb)."
   ]
  },
  {
   "cell_type": "code",
   "execution_count": 4,
   "metadata": {},
   "outputs": [],
   "source": [
    "import requests\n",
    "fn = \"SopSax.Vib.pp.C6Eb6.aiff\"\n",
    "url = \"http://theremin.music.uiowa.edu/sound files/MIS/Woodwinds/sopranosaxophone/\"+fn\n",
    "\n",
    "r=requests.get(url)\n",
    "with open (fn,\"wb\") as f:\n",
    "    f.write(r.content)"
   ]
  },
  {
   "cell_type": "markdown",
   "metadata": {},
   "source": [
    "Next, use `librosa` command `librosa.load` to read the audio file with filename `fn` and get the samples `y` and sample rate `sr`."
   ]
  },
  {
   "cell_type": "code",
   "execution_count": 5,
   "metadata": {},
   "outputs": [],
   "source": [
    "# TODO\n",
    "y, sr = librosa.load(fn)"
   ]
  },
  {
   "cell_type": "markdown",
   "metadata": {},
   "source": [
    "Extracting features from audio files is an entire subject on its own right.  A commonly used set of features are called the Mel Frequency Cepstral Coefficients (MFCCs).  These are derived from the so-called mel spectrogram which is something like a regular spectrogram, but the power and frequency are represented in log scale, which more naturally aligns with human perceptual processing.  You can run the code below to display the mel spectrogram from the audio sample.\n",
    "\n",
    "You can easily see the four notes played in the audio track.  You also see the 'harmonics' of each notes, which are other tones at integer multiples of the fundamental frequency of each note."
   ]
  },
  {
   "cell_type": "code",
   "execution_count": 6,
   "metadata": {},
   "outputs": [
    {
     "data": {
      "image/png": "[encoded data removed]",
      "text/plain": [
       "<Figure size 432x288 with 2 Axes>"
      ]
     },
     "metadata": {
      "needs_background": "light"
     },
     "output_type": "display_data"
    }
   ],
   "source": [
    "S = librosa.feature.melspectrogram(y=y, sr=sr, n_mels=128, fmax=8000)\n",
    "librosa.display.specshow(librosa.amplitude_to_db(S),\n",
    "                         y_axis='mel', fmax=8000, x_axis='time')\n",
    "plt.colorbar(format='%+2.0f dB')\n",
    "plt.title('Mel spectrogram')\n",
    "plt.tight_layout()"
   ]
  },
  {
   "cell_type": "markdown",
   "metadata": {},
   "source": [
    "## Downloading the Data\n",
    "\n",
    "Using the MFCC features described above, Eric Humphrey and Juan Bellow have created a complete data set that can used for instrument classification.  Essentially, they collected a number of data files from the website above.  For each audio file, the segmented the track into notes and then extracted 120 MFCCs for each note.  The goal is to recognize the instrument from the 120 MFCCs.  The process of feature extraction is quite involved.  So, we will just use their processed data provided at:\n",
    "\n",
    "https://github.com/marl/dl4mir-tutorial/blob/master/README.md\n",
    "\n",
    "Note the password.  Load the four files into some directory, say  `instrument_dataset`.  Then, load them with the commands."
   ]
  },
  {
   "cell_type": "code",
   "execution_count": 7,
   "metadata": {},
   "outputs": [],
   "source": [
    "data_dir = 'instrument_dataset/'\n",
    "Xtr = np.load(data_dir+'uiowa_train_data.npy')\n",
    "ytr = np.load(data_dir+'uiowa_train_labels.npy')\n",
    "Xts = np.load(data_dir+'uiowa_test_data.npy')\n",
    "yts = np.load(data_dir+'uiowa_test_labels.npy')"
   ]
  },
  {
   "cell_type": "markdown",
   "metadata": {},
   "source": [
    "Looking at the data files:\n",
    "* What are the number of training and test samples?\n",
    "* What is the number of features for each sample?\n",
    "* How many classes (i.e. instruments) are there per class?\n"
   ]
  },
  {
   "cell_type": "code",
   "execution_count": 8,
   "metadata": {},
   "outputs": [
    {
     "name": "stdout",
     "output_type": "stream",
     "text": [
      "Number of training samples: 66247\n",
      "Number of test samples: 14904\n",
      "Number of Features: 120\n",
      "Number of classes (i.e. instruments) in each class: 10\n"
     ]
    }
   ],
   "source": [
    "print('Number of training samples:',Xtr.shape[0])\n",
    "print('Number of test samples:',Xts.shape[0])\n",
    "print('Number of Features:',Xtr.shape[1])\n",
    "print('Number of classes (i.e. instruments) in each class:',np.unique(ytr).size)"
   ]
  },
  {
   "cell_type": "markdown",
   "metadata": {},
   "source": [
    "Before continuing, you must scale the training and test data, `Xtr` and `Xts`.  Compute the mean and std deviation of each feature in `Xtr` and create a new training data set, `Xtr_scale`, by subtracting the mean and dividing by the std deviation.  Also compute a scaled test data set, `Xts_scale` using the mean and std deviation learned from the training data set."
   ]
  },
  {
   "cell_type": "code",
   "execution_count": 9,
   "metadata": {
    "scrolled": true
   },
   "outputs": [],
   "source": [
    "from sklearn import preprocessing\n",
    "# TODO Scale the training and test matrices\n",
    "Xtr_mean = np.mean(Xtr, axis = 0)\n",
    "Xtr_std = np.std(Xtr, axis = 0)\n",
    "\n",
    "Xtr_scale = (Xtr - Xtr_mean[None, :])/Xtr_std[None, :]\n",
    "#print(Xtr_scale)\n",
    "\n",
    "Xts_scale= (Xts - Xtr_mean[None, :])/Xtr_std[None, :]\n",
    "#print(Xts_scale)"
   ]
  },
  {
   "cell_type": "markdown",
   "metadata": {
    "collapsed": true
   },
   "source": [
    "## Building a Neural Network Classifier\n",
    "\n",
    "Following the example in [MNIST neural network demo](./mnist_neural.ipynb), clear the keras session.  Then, create a neural network `model` with:\n",
    "* `nh=256` hidden units\n",
    "* `sigmoid` activation\n",
    "* select the input and output shapes correctly\n",
    "* print the model summary"
   ]
  },
  {
   "cell_type": "code",
   "execution_count": 10,
   "metadata": {},
   "outputs": [],
   "source": [
    "from tensorflow.keras.models import Model, Sequential\n",
    "from tensorflow.keras.layers import Dense, Activation\n",
    "import tensorflow.keras.backend as K"
   ]
  },
  {
   "cell_type": "code",
   "execution_count": 11,
   "metadata": {},
   "outputs": [],
   "source": [
    "# TODO clear session\n",
    "K.clear_session()"
   ]
  },
  {
   "cell_type": "code",
   "execution_count": 12,
   "metadata": {},
   "outputs": [
    {
     "name": "stdout",
     "output_type": "stream",
     "text": [
      "10\n",
      "WARNING:tensorflow:From /Users/akhilwadhwa/anaconda3/envs/mlearn/lib/python3.6/site-packages/tensorflow/python/ops/resource_variable_ops.py:435: colocate_with (from tensorflow.python.framework.ops) is deprecated and will be removed in a future version.\n",
      "Instructions for updating:\n",
      "Colocations handled automatically by placer.\n"
     ]
    }
   ],
   "source": [
    "# TODO: construct the model\n",
    "nin = Xtr_scale.shape[1]  # dimension of input data\n",
    "nh = 256     # number of hidden units\n",
    "nout = int(np.max(ytr)+1)\n",
    "print(nout)\n",
    "model = Sequential()\n",
    "model.add(Dense(units=nh, input_shape=(nin,), activation='sigmoid', name='hidden'))\n",
    "model.add(Dense(units=nout, activation='softmax', name='output'))"
   ]
  },
  {
   "cell_type": "code",
   "execution_count": 13,
   "metadata": {},
   "outputs": [
    {
     "name": "stdout",
     "output_type": "stream",
     "text": [
      "_________________________________________________________________\n",
      "Layer (type)                 Output Shape              Param #   \n",
      "=================================================================\n",
      "hidden (Dense)               (None, 256)               30976     \n",
      "_________________________________________________________________\n",
      "output (Dense)               (None, 10)                2570      \n",
      "=================================================================\n",
      "Total params: 33,546\n",
      "Trainable params: 33,546\n",
      "Non-trainable params: 0\n",
      "_________________________________________________________________\n"
     ]
    }
   ],
   "source": [
    "# TODO:  Print the model summary\n",
    "model.summary()"
   ]
  },
  {
   "cell_type": "markdown",
   "metadata": {},
   "source": [
    "Create an optimizer and compile the model.  Select the appropriate loss function and metrics.  For the optimizer, use the Adam optimizer with a learning rate of 0.001"
   ]
  },
  {
   "cell_type": "code",
   "execution_count": 14,
   "metadata": {
    "scrolled": true
   },
   "outputs": [],
   "source": [
    "# TODO\n",
    "from tensorflow.keras import optimizers\n",
    "\n",
    "opt = optimizers.Adam(lr=0.001) # beta_1=0.9, beta_2=0.999, epsilon=1e-08, decay=0.0)\n",
    "model.compile(optimizer=opt,loss='sparse_categorical_crossentropy',metrics=['accuracy'])"
   ]
  },
  {
   "cell_type": "markdown",
   "metadata": {},
   "source": [
    "Fit the model for 10 epochs using the scaled data for both the training and validation.  Use the `validation_data` option to pass the test data.  Also, pass the callback class create above.  Use a batch size of 100.  Your final accuracy should be >99%."
   ]
  },
  {
   "cell_type": "code",
   "execution_count": 15,
   "metadata": {
    "scrolled": true
   },
   "outputs": [
    {
     "name": "stdout",
     "output_type": "stream",
     "text": [
      "Train on 66247 samples, validate on 14904 samples\n",
      "Epoch 1/10\n",
      "66247/66247 [==============================] - 1s 21us/sample - loss: 0.3542 - acc: 0.9045 - val_loss: 0.1798 - val_acc: 0.9546\n",
      "Epoch 2/10\n",
      "66247/66247 [==============================] - 1s 19us/sample - loss: 0.1002 - acc: 0.9757 - val_loss: 0.0885 - val_acc: 0.9785\n",
      "Epoch 3/10\n",
      "66247/66247 [==============================] - 1s 19us/sample - loss: 0.0595 - acc: 0.9854 - val_loss: 0.0724 - val_acc: 0.9783\n",
      "Epoch 4/10\n",
      "66247/66247 [==============================] - 1s 19us/sample - loss: 0.0422 - acc: 0.9893 - val_loss: 0.0472 - val_acc: 0.9889\n",
      "Epoch 5/10\n",
      "66247/66247 [==============================] - 1s 19us/sample - loss: 0.0317 - acc: 0.9916 - val_loss: 0.0390 - val_acc: 0.9887\n",
      "Epoch 6/10\n",
      "66247/66247 [==============================] - 1s 19us/sample - loss: 0.0253 - acc: 0.9933 - val_loss: 0.0368 - val_acc: 0.9891\n",
      "Epoch 7/10\n",
      "66247/66247 [==============================] - 1s 20us/sample - loss: 0.0208 - acc: 0.9946 - val_loss: 0.0297 - val_acc: 0.9911\n",
      "Epoch 8/10\n",
      "66247/66247 [==============================] - 1s 19us/sample - loss: 0.0175 - acc: 0.9955 - val_loss: 0.0299 - val_acc: 0.9906\n",
      "Epoch 9/10\n",
      "66247/66247 [==============================] - 1s 19us/sample - loss: 0.0148 - acc: 0.9961 - val_loss: 0.0275 - val_acc: 0.9910\n",
      "Epoch 10/10\n",
      "66247/66247 [==============================] - 1s 19us/sample - loss: 0.0132 - acc: 0.9965 - val_loss: 0.0325 - val_acc: 0.9887\n"
     ]
    }
   ],
   "source": [
    "# TODO\n",
    "hist = model.fit(Xtr_scale, ytr, epochs=10, batch_size=100, validation_data=(Xts_scale,yts))"
   ]
  },
  {
   "cell_type": "markdown",
   "metadata": {},
   "source": [
    "Plot the validation accuracy saved in `hist.history` dictionary. This gives one accuracy value per epoch.  You should see that the validation accuracy saturates at a little higher than 99%.  After that it \"bounces around\" due to the noise in the stochastic gradient descent."
   ]
  },
  {
   "cell_type": "code",
   "execution_count": 16,
   "metadata": {},
   "outputs": [
    {
     "data": {
      "text/plain": [
       "Text(0.5, 1.0, 'Validation accuracy for each Epoch')"
      ]
     },
     "execution_count": 16,
     "metadata": {},
     "output_type": "execute_result"
    },
    {
     "data": {
      "image/png": "[encoded data removed]",
      "text/plain": [
       "<Figure size 432x288 with 1 Axes>"
      ]
     },
     "metadata": {
      "needs_background": "light"
     },
     "output_type": "display_data"
    }
   ],
   "source": [
    "# TODO\n",
    "epochs=np.arange(1,11)\n",
    "plt.plot(epochs,hist.history['val_acc'])\n",
    "plt.ylabel('Validation accuracy')\n",
    "plt.xlabel('Epochs')\n",
    "plt.title('Validation accuracy for each Epoch')"
   ]
  },
  {
   "cell_type": "markdown",
   "metadata": {},
   "source": [
    "Plot the loss values saved in the `hist.history` dictionary.  You should see that the loss is steadily decreasing.  Use the `semilogy` plot."
   ]
  },
  {
   "cell_type": "code",
   "execution_count": 17,
   "metadata": {},
   "outputs": [
    {
     "name": "stdout",
     "output_type": "stream",
     "text": [
      "[0.35422665 0.10019364 0.0594813  0.04221827 0.03174168 0.02531595\n",
      " 0.0207939  0.01749502 0.01476419 0.01317417]\n"
     ]
    },
    {
     "data": {
      "text/plain": [
       "Text(0.5, 0, 'Loss')"
      ]
     },
     "execution_count": 17,
     "metadata": {},
     "output_type": "execute_result"
    },
    {
     "data": {
      "image/png": "[encoded data removed]",
      "text/plain": [
       "<Figure size 432x288 with 1 Axes>"
      ]
     },
     "metadata": {
      "needs_background": "light"
     },
     "output_type": "display_data"
    }
   ],
   "source": [
    "# TODO\n",
    "histo=np.array(hist.history['loss'])\n",
    "print(histo)\n",
    "plt.semilogy(histo,'c')\n",
    "plt.xlabel('Loss')"
   ]
  },
  {
   "cell_type": "markdown",
   "metadata": {},
   "source": [
    "## Optimizing the Learning Rate\n",
    "\n",
    "One challenge in training neural networks is the selection of the learning rate.  Rerun the above code, trying four learning rates as shown in the vector `rates`.  For each learning rate:\n",
    "* clear the session\n",
    "* construct the network\n",
    "* select the optimizer.  Use the Adam optimizer with the appropriate learrning rate.\n",
    "* train the model for 20 epochs\n",
    "* save the accuracy and losses"
   ]
  },
  {
   "cell_type": "code",
   "execution_count": 18,
   "metadata": {},
   "outputs": [
    {
     "name": "stdout",
     "output_type": "stream",
     "text": [
      "10\n",
      "Train on 66247 samples, validate on 14904 samples\n",
      "Epoch 1/20\n",
      "66247/66247 [==============================] - 1s 22us/sample - loss: 0.1050 - acc: 0.9672 - val_loss: 0.0698 - val_acc: 0.9756\n",
      "Epoch 2/20\n",
      "66247/66247 [==============================] - 1s 19us/sample - loss: 0.0272 - acc: 0.9913 - val_loss: 0.0434 - val_acc: 0.9848\n",
      "Epoch 3/20\n",
      "66247/66247 [==============================] - 1s 19us/sample - loss: 0.0213 - acc: 0.9927 - val_loss: 0.0275 - val_acc: 0.9907\n",
      "Epoch 4/20\n",
      "66247/66247 [==============================] - 1s 19us/sample - loss: 0.0171 - acc: 0.9943 - val_loss: 0.0336 - val_acc: 0.9890\n",
      "Epoch 5/20\n",
      "66247/66247 [==============================] - 1s 18us/sample - loss: 0.0176 - acc: 0.9945 - val_loss: 0.0317 - val_acc: 0.9885\n",
      "Epoch 6/20\n",
      "66247/66247 [==============================] - 1s 19us/sample - loss: 0.0131 - acc: 0.9954 - val_loss: 0.0293 - val_acc: 0.9903\n",
      "Epoch 7/20\n",
      "66247/66247 [==============================] - 1s 19us/sample - loss: 0.0159 - acc: 0.9947 - val_loss: 0.0502 - val_acc: 0.9859\n",
      "Epoch 8/20\n",
      "66247/66247 [==============================] - 1s 18us/sample - loss: 0.0120 - acc: 0.9962 - val_loss: 0.0488 - val_acc: 0.9879\n",
      "Epoch 9/20\n",
      "66247/66247 [==============================] - 1s 18us/sample - loss: 0.0101 - acc: 0.9966 - val_loss: 0.0928 - val_acc: 0.9814\n",
      "Epoch 10/20\n",
      "66247/66247 [==============================] - 1s 18us/sample - loss: 0.0143 - acc: 0.9961 - val_loss: 0.0504 - val_acc: 0.9861\n",
      "Epoch 11/20\n",
      "66247/66247 [==============================] - 1s 19us/sample - loss: 0.0101 - acc: 0.9968 - val_loss: 0.0252 - val_acc: 0.9923\n",
      "Epoch 12/20\n",
      "66247/66247 [==============================] - 1s 20us/sample - loss: 0.0159 - acc: 0.9953 - val_loss: 0.0566 - val_acc: 0.9856\n",
      "Epoch 13/20\n",
      "66247/66247 [==============================] - 1s 18us/sample - loss: 0.0107 - acc: 0.9970 - val_loss: 0.0407 - val_acc: 0.9902\n",
      "Epoch 14/20\n",
      "66247/66247 [==============================] - 1s 18us/sample - loss: 0.0076 - acc: 0.9976 - val_loss: 0.0519 - val_acc: 0.9854\n",
      "Epoch 15/20\n",
      "66247/66247 [==============================] - 1s 20us/sample - loss: 0.0104 - acc: 0.9970 - val_loss: 0.0429 - val_acc: 0.9896\n",
      "Epoch 16/20\n",
      "66247/66247 [==============================] - 1s 19us/sample - loss: 0.0065 - acc: 0.9980 - val_loss: 0.0407 - val_acc: 0.9907\n",
      "Epoch 17/20\n",
      "66247/66247 [==============================] - 1s 21us/sample - loss: 0.0129 - acc: 0.9961 - val_loss: 0.0855 - val_acc: 0.9820\n",
      "Epoch 18/20\n",
      "66247/66247 [==============================] - 2s 23us/sample - loss: 0.0069 - acc: 0.9978 - val_loss: 0.0522 - val_acc: 0.9887\n",
      "Epoch 19/20\n",
      "66247/66247 [==============================] - 2s 25us/sample - loss: 0.0064 - acc: 0.9980 - val_loss: 0.0396 - val_acc: 0.9909\n",
      "Epoch 20/20\n",
      "66247/66247 [==============================] - 2s 24us/sample - loss: 0.0082 - acc: 0.9976 - val_loss: 0.0473 - val_acc: 0.9895\n",
      "10\n",
      "Train on 66247 samples, validate on 14904 samples\n",
      "Epoch 1/20\n",
      "66247/66247 [==============================] - 2s 26us/sample - loss: 0.3575 - acc: 0.9055 - val_loss: 0.1859 - val_acc: 0.9461\n",
      "Epoch 2/20\n",
      "66247/66247 [==============================] - 1s 22us/sample - loss: 0.1001 - acc: 0.9757 - val_loss: 0.0967 - val_acc: 0.9724\n",
      "Epoch 3/20\n",
      "66247/66247 [==============================] - 1s 22us/sample - loss: 0.0589 - acc: 0.9860 - val_loss: 0.0596 - val_acc: 0.9860\n",
      "Epoch 4/20\n",
      "66247/66247 [==============================] - 2s 23us/sample - loss: 0.0416 - acc: 0.9895 - val_loss: 0.0581 - val_acc: 0.9843\n",
      "Epoch 5/20\n",
      "66247/66247 [==============================] - 1s 20us/sample - loss: 0.0317 - acc: 0.9917 - val_loss: 0.0457 - val_acc: 0.9871\n",
      "Epoch 6/20\n",
      "66247/66247 [==============================] - 1s 19us/sample - loss: 0.0250 - acc: 0.9934 - val_loss: 0.0380 - val_acc: 0.9891\n",
      "Epoch 7/20\n",
      "66247/66247 [==============================] - 1s 20us/sample - loss: 0.0204 - acc: 0.9949 - val_loss: 0.0299 - val_acc: 0.9917\n",
      "Epoch 8/20\n",
      "66247/66247 [==============================] - 1s 20us/sample - loss: 0.0172 - acc: 0.9955 - val_loss: 0.0424 - val_acc: 0.9861\n",
      "Epoch 9/20\n",
      "66247/66247 [==============================] - 1s 19us/sample - loss: 0.0148 - acc: 0.9960 - val_loss: 0.0284 - val_acc: 0.9911\n",
      "Epoch 10/20\n",
      "66247/66247 [==============================] - 1s 19us/sample - loss: 0.0127 - acc: 0.9969 - val_loss: 0.0307 - val_acc: 0.9897\n",
      "Epoch 11/20\n",
      "66247/66247 [==============================] - 1s 19us/sample - loss: 0.0112 - acc: 0.9971 - val_loss: 0.0271 - val_acc: 0.9917\n",
      "Epoch 12/20\n",
      "66247/66247 [==============================] - 1s 19us/sample - loss: 0.0098 - acc: 0.9976 - val_loss: 0.0273 - val_acc: 0.9899\n",
      "Epoch 13/20\n",
      "66247/66247 [==============================] - 1s 19us/sample - loss: 0.0089 - acc: 0.9976 - val_loss: 0.0245 - val_acc: 0.9908\n",
      "Epoch 14/20\n",
      "66247/66247 [==============================] - 1s 20us/sample - loss: 0.0077 - acc: 0.9981 - val_loss: 0.0275 - val_acc: 0.9902\n",
      "Epoch 15/20\n",
      "66247/66247 [==============================] - 1s 19us/sample - loss: 0.0076 - acc: 0.9980 - val_loss: 0.0240 - val_acc: 0.9915\n",
      "Epoch 16/20\n",
      "66247/66247 [==============================] - 1s 18us/sample - loss: 0.0066 - acc: 0.9982 - val_loss: 0.0263 - val_acc: 0.9909\n",
      "Epoch 17/20\n",
      "66247/66247 [==============================] - 1s 19us/sample - loss: 0.0063 - acc: 0.9985 - val_loss: 0.0278 - val_acc: 0.9901\n",
      "Epoch 18/20\n",
      "66247/66247 [==============================] - 1s 20us/sample - loss: 0.0055 - acc: 0.9985 - val_loss: 0.0257 - val_acc: 0.9913\n",
      "Epoch 19/20\n",
      "66247/66247 [==============================] - 1s 19us/sample - loss: 0.0057 - acc: 0.9984 - val_loss: 0.0297 - val_acc: 0.9903\n",
      "Epoch 20/20\n",
      "66247/66247 [==============================] - 1s 19us/sample - loss: 0.0049 - acc: 0.9987 - val_loss: 0.0415 - val_acc: 0.9865\n",
      "10\n",
      "Train on 66247 samples, validate on 14904 samples\n",
      "Epoch 1/20\n",
      "66247/66247 [==============================] - 2s 25us/sample - loss: 1.0863 - acc: 0.6659 - val_loss: 0.8442 - val_acc: 0.6653\n",
      "Epoch 2/20\n",
      "66247/66247 [==============================] - 1s 19us/sample - loss: 0.5381 - acc: 0.8523 - val_loss: 0.5640 - val_acc: 0.8101\n",
      "Epoch 3/20\n",
      "66247/66247 [==============================] - 1s 18us/sample - loss: 0.3749 - acc: 0.9124 - val_loss: 0.4376 - val_acc: 0.8631\n",
      "Epoch 4/20\n",
      "66247/66247 [==============================] - 1s 19us/sample - loss: 0.2903 - acc: 0.9341 - val_loss: 0.3419 - val_acc: 0.9085\n",
      "Epoch 5/20\n",
      "66247/66247 [==============================] - 1s 18us/sample - loss: 0.2361 - acc: 0.9471 - val_loss: 0.2877 - val_acc: 0.9193\n",
      "Epoch 6/20\n",
      "66247/66247 [==============================] - 1s 19us/sample - loss: 0.1972 - acc: 0.9551 - val_loss: 0.2428 - val_acc: 0.9310\n",
      "Epoch 7/20\n",
      "66247/66247 [==============================] - 1s 18us/sample - loss: 0.1675 - acc: 0.9609 - val_loss: 0.2035 - val_acc: 0.9431\n",
      "Epoch 8/20\n",
      "66247/66247 [==============================] - 1s 19us/sample - loss: 0.1442 - acc: 0.9656 - val_loss: 0.1746 - val_acc: 0.9523\n",
      "Epoch 9/20\n",
      "66247/66247 [==============================] - 1s 18us/sample - loss: 0.1254 - acc: 0.9706 - val_loss: 0.1561 - val_acc: 0.9558\n",
      "Epoch 10/20\n",
      "66247/66247 [==============================] - 1s 19us/sample - loss: 0.1101 - acc: 0.9743 - val_loss: 0.1358 - val_acc: 0.9622\n",
      "Epoch 11/20\n",
      "66247/66247 [==============================] - 1s 18us/sample - loss: 0.0977 - acc: 0.9769 - val_loss: 0.1202 - val_acc: 0.9675\n",
      "Epoch 12/20\n",
      "66247/66247 [==============================] - 1s 19us/sample - loss: 0.0876 - acc: 0.9799 - val_loss: 0.1062 - val_acc: 0.9734\n",
      "Epoch 13/20\n",
      "66247/66247 [==============================] - 1s 20us/sample - loss: 0.0792 - acc: 0.9820 - val_loss: 0.0951 - val_acc: 0.9770\n",
      "Epoch 14/20\n",
      "66247/66247 [==============================] - 1s 20us/sample - loss: 0.0721 - acc: 0.9837 - val_loss: 0.0895 - val_acc: 0.9770\n",
      "Epoch 15/20\n",
      "66247/66247 [==============================] - 1s 18us/sample - loss: 0.0662 - acc: 0.9846 - val_loss: 0.0806 - val_acc: 0.9811\n",
      "Epoch 16/20\n",
      "66247/66247 [==============================] - 1s 18us/sample - loss: 0.0610 - acc: 0.9860 - val_loss: 0.0776 - val_acc: 0.9795\n",
      "Epoch 17/20\n",
      "66247/66247 [==============================] - 1s 18us/sample - loss: 0.0567 - acc: 0.9866 - val_loss: 0.0718 - val_acc: 0.9815\n",
      "Epoch 18/20\n",
      "66247/66247 [==============================] - 1s 18us/sample - loss: 0.0529 - acc: 0.9872 - val_loss: 0.0682 - val_acc: 0.9829\n",
      "Epoch 19/20\n",
      "66247/66247 [==============================] - 1s 18us/sample - loss: 0.0496 - acc: 0.9884 - val_loss: 0.0610 - val_acc: 0.9861\n",
      "Epoch 20/20\n",
      "66247/66247 [==============================] - 1s 18us/sample - loss: 0.0466 - acc: 0.9888 - val_loss: 0.0616 - val_acc: 0.9849\n"
     ]
    }
   ],
   "source": [
    "rates = [0.01,0.001,0.0001]\n",
    "batch_size = 100\n",
    "loss_hist = []\n",
    "acc_hist=[]\n",
    "\n",
    "\n",
    "# TODO\n",
    "for lr in rates:\n",
    "    K.clear_session()\n",
    "    nin = Xtr_scale.shape[1]  # dimension of input data\n",
    "    nh = 256     # number of hidden units\n",
    "    nout = int(np.max(ytr)+1)\n",
    "    print(nout)\n",
    "    model = Sequential()\n",
    "    model.add(Dense(units=nh, input_shape=(nin,), activation='sigmoid', name='hidden'))\n",
    "    model.add(Dense(units=nout, activation='softmax', name='output'))\n",
    "    opt = optimizers.Adam(lr) # beta_1=0.9, beta_2=0.999, epsilon=1e-08, decay=0.0)\n",
    "    model.compile(optimizer=opt,loss='sparse_categorical_crossentropy',metrics=['accuracy'])\n",
    "    hist = model.fit(Xtr_scale, ytr, epochs=20,batch_size=100, validation_data=(Xts_scale,yts))\n",
    "    loss_hist.append(hist.history['loss'])\n",
    "    acc_hist.append(hist.history['acc'])\n"
   ]
  },
  {
   "cell_type": "markdown",
   "metadata": {},
   "source": [
    "Plot the loss funciton vs. the epoch number for all three learning rates on one graph.  You should see that the lower learning rates are more stable, but converge slower."
   ]
  },
  {
   "cell_type": "code",
   "execution_count": 19,
   "metadata": {},
   "outputs": [],
   "source": [
    "loss_hist = np.array(loss_hist)"
   ]
  },
  {
   "cell_type": "code",
   "execution_count": 21,
   "metadata": {},
   "outputs": [
    {
     "data": {
      "text/plain": [
       "Text(0.5, 1.0, 'Loss Function for each Epoch')"
      ]
     },
     "execution_count": 21,
     "metadata": {},
     "output_type": "execute_result"
    },
    {
     "data": {
      "image/png": "[encoded data removed]",
      "text/plain": [
       "<Figure size 432x288 with 1 Axes>"
      ]
     },
     "metadata": {
      "needs_background": "light"
     },
     "output_type": "display_data"
    }
   ],
   "source": [
    "# TODO\n",
    "epochs=np.arange(1,21)\n",
    "plt.plot( epochs,loss_hist[0, :],label='rate=0.01')\n",
    "plt.plot(epochs,loss_hist[1, :],label='rate=0.001')\n",
    "plt.plot(epochs,loss_hist[2, :],label='rate=0.0001')\n",
    "plt.legend() \n",
    "plt.xlim(0,21)\n",
    "plt.xlabel('epochs')\n",
    "plt.ylabel('loss function')\n",
    "plt.title('Loss Function for each Epoch')"
   ]
  },
  {
   "cell_type": "code",
   "execution_count": null,
   "metadata": {},
   "outputs": [],
   "source": []
  }
 ],
 "metadata": {
  "anaconda-cloud": {},
  "kernelspec": {
   "display_name": "Python 3",
   "language": "python",
   "name": "python3"
  },
  "language_info": {
   "codemirror_mode": {
    "name": "ipython",
    "version": 3
   },
   "file_extension": ".py",
   "mimetype": "text/x-python",
   "name": "python",
   "nbconvert_exporter": "python",
   "pygments_lexer": "ipython3",
   "version": "3.7.5"
  }
 },
 "nbformat": 4,
 "nbformat_minor": 1
}
